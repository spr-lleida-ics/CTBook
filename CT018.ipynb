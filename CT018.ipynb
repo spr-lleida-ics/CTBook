{
 "cells": [
  {
   "cell_type": "code",
   "execution_count": 1,
   "metadata": {},
   "outputs": [],
   "source": [
    "import numpy as np\n",
    "\n",
    "%config Completer.use_jedi = False\n",
    "\n",
    "np.seterr(divide=\"ignore\", invalid=\"ignore\")\n",
    "\n",
    "\n",
    "import math\n",
    "import os\n",
    "import sys\n",
    "\n",
    "import ipywidgets as widgets\n",
    "import pandas as pd\n",
    "import pydicom as dc\n",
    "from highcharts import Highchart\n",
    "from IPython.display import HTML, Latex, Markdown, clear_output, display\n",
    "from pydicom import dcmread\n",
    "from pydicom.filebase import DicomBytesIO\n",
    "from scipy import fftpack, stats\n",
    "from skimage import color\n",
    "from skimage.feature import canny\n",
    "from skimage.transform import hough_circle, hough_circle_peaks"
   ]
  },
  {
   "cell_type": "code",
   "execution_count": 2,
   "metadata": {},
   "outputs": [],
   "source": [
    "uploader = widgets.FileUpload(\n",
    "    accept=\"\",  # Accepted file extension e.g. '.txt', '.pdf', 'image/*', 'image/*,.pdf'\n",
    "    multiple=True,  # True to accept multiple files upload else False\n",
    ")"
   ]
  },
  {
   "cell_type": "code",
   "execution_count": 3,
   "metadata": {},
   "outputs": [
    {
     "data": {
      "application/vnd.jupyter.widget-view+json": {
       "model_id": "0b52678ae49b4a85bca14a548ffe219d",
       "version_major": 2,
       "version_minor": 0
      },
      "text/plain": [
       "FileUpload(value={}, description='Upload', multiple=True)"
      ]
     },
     "metadata": {},
     "output_type": "display_data"
    }
   ],
   "source": [
    "display(uploader)"
   ]
  },
  {
   "cell_type": "code",
   "execution_count": 7,
   "metadata": {},
   "outputs": [],
   "source": [
    "def BusquedaCirculos(image, HoughParameters, PixelSize):\n",
    "    edges = canny(\n",
    "        image,\n",
    "        sigma=HoughParameters[0],\n",
    "        low_threshold=HoughParameters[1],\n",
    "        high_threshold=HoughParameters[2],\n",
    "    )\n",
    "    hough_radii = np.array(HoughParameters[3])\n",
    "    hough_radii = (hough_radii / PixelSize).astype(np.int)\n",
    "    hough_res = hough_circle(edges, hough_radii)\n",
    "    return hough_circle_peaks(\n",
    "        hough_res, hough_radii, total_num_peaks=HoughParameters[4]\n",
    "    )\n",
    "\n",
    "\n",
    "def createCircularMask(h, w, center=None, radius=None):\n",
    "\n",
    "    if center is None:  # use the middle of the image\n",
    "        center = [int(w / 2), int(h / 2)]\n",
    "    if radius is None:  # use the smallest distance between the center and image walls\n",
    "        radius = min(center[0], center[1], w - center[0], h - center[1])\n",
    "\n",
    "    Y, X = np.ogrid[:h, :w]\n",
    "    dist_from_center = np.sqrt((X - center[0]) ** 2 + (Y - center[1]) ** 2)\n",
    "\n",
    "    mask = dist_from_center <= radius\n",
    "    return mask\n",
    "\n",
    "\n",
    "def NormalizeMTF(Matrix, Agua, Aire):\n",
    "    return (Matrix - Aire) / (Agua - Aire)\n",
    "\n",
    "\n",
    "class Point:\n",
    "    def __init__(self, x_init, y_init):\n",
    "        self.x = x_init\n",
    "        self.y = y_init\n",
    "\n",
    "    def shiftX(self, d):\n",
    "        return Point(self.x + d, self.y)\n",
    "\n",
    "    def shiftY(self, d):\n",
    "        return Point(self.x, self.y + d)\n",
    "\n",
    "    def __repr__(self):\n",
    "        return \"\".join([\"Point(\", str(self.x), \",\", str(self.y), \")\"])\n",
    "\n",
    "    def __add__(a, b):\n",
    "        return Point(a.x + b.x, a.y + b.y)\n",
    "\n",
    "    def __getitem__(self, i):\n",
    "        return Point(self.x[i], self.y[i])\n",
    "\n",
    "\n",
    "# TC018\n",
    "TC018_HoughParameters = [3, 0, 50, [99, 100], 1]\n",
    "TC018_Limits = [87.5, 112.5]\n",
    "TC018_OverResolution = 0.1\n",
    "TC018_MaxAngle = 6\n",
    "TC018_StepAngle = 0.5\n",
    "TC018_Angles = [0, 30, 60, 90, 120, 150, 180]\n",
    "Catphan_ExtRadius = 100  # radio externo del catphan\n",
    "\n",
    "TrafficLightGreen = \"url(data:image/png;base64,iVBORw0KGgoAAAANSUhEUgAAAA8AAAAhCAIAAACJEmZbAAAABGdBTUEAALGPC/xhBQAAACBjSFJNAAB6JgAAgIQAAPoAAACA6AAAdTAAAOpgAAA6mAAAF3CculE8AAAABmJLR0QA/wD/AP+gvaeTAAAAB3RJTUUH4gQQCyENzLpnyQAAA6BJREFUOMtllN9qVFcUxr+19j7/ZjL/4iQhQQNiCC1oay1FMIVeeFFrL/oChV4U+hJC8Q36MPW62F60ITGEGkLBCIrGGmN00iQzc2Zy9vp6cWYmovvq7LN+e+21vm/vLWYmIgB2dnY2Nzf7eU5VkgIoOTMzs7KyUq/XzUxVQZLknTt36vU6AAfUgBmggdFYXl6+d+8eyRACSN69e7cMtKdqn6aVy+Iuq/tE3KU0q6RpGbp//z5JPHv2rN1uA5jKsqUoWQKWRT+GfgRdAs5Xqlm1CuD69etm5h8+fHhwcACRLJieDhviWpQUIHAMeZkPjrKkD2xtbW1vb/vBYABARGKyBVmgppBy9ykgMzuCHAHF6Wm329VSEAIJ0IakEAMIEDCgAZm0q6o6+iRhlkCIcebxMHKM8Izu0AJExokJCCz3bi8Uk5UjWiAd8h+1IPSAgg526v3fkR4Nh2WpADzGOMhHDPuwC9BaHPWdf2pFJ+8JR+g7dDlxUTIdvUWvF+PUivxwVNAE95MORPT8XNqIusMAoyXKtOX2fXp4PJjgZ7mbtSTRbgGr1VzsURTo9kKjov1hXHpyRotoNbVKytnpqDal3oGBgxwvXof/+n4wGMmqY+Uli9luaKupUaoSqUSukrnFGTQqZ43pxALvWKuIqHAcCZAkkiy2kWgTmsbBMDgFbZyHBGnEce8DdwC8OuRJj56GggxEwQj26hB7HZZr3/FS0O1j4zH33xahX1i3KPrF8wOu7TCEiTnv6K0q+x37bcPNX7BaSw9fu39fFoCpiL3njqqYcXa2vfSdP0n3fIx5Y/Rnurs2DPygbjNOVWrL32Z5dU8HYscMeWh91l/8vCZw71cC4MKVRjd5kVQx84VU5xiG+mbH7Cifflp/c9ApL82I9hLHc8PaRVv6RqeX6WMAXPxKniwOTrbrbw5GZ3bipaZtO/8lZq/AeyCAAVGKi7c4d1UnJY/oYTgNrjd9CTCyPKUCK+BTWNItJRYRz9G1C/s7ffVKG/2gQRTDI3nyV7ecmpnOz887pwCe/47Hv8J7uAji4GKox4NfdH+LANIkazQaIHnjxgqASJOoIis/6w8P9KdH7vs//NUfI0CjKAZw8+ZNkiC5vr6eJMmZBRGyaRE5O0KVSmV1dZUkQggkNzc3b9++3Wo1kyxWcYCoapxGzVbz1te31tbWyjdWSJZv88nJycbGxu7ubuewk+d5FEXNRnNhYeHatWvnzp0rmf8BxVXVHXjMTCwAAAAldEVYdGRhdGU6Y3JlYXRlADIwMTgtMDQtMTZUMTE6MzM6MTMrMDA6MDAxayl4AAAAJXRFWHRkYXRlOm1vZGlmeQAyMDE4LTA0LTE2VDExOjMzOjEzKzAwOjAwQDaRxAAAAABJRU5ErkJggg==)\"\n",
    "TrafficLightYellow=\"url(data:image/png;base64,iVBORw0KGgoAAAANSUhEUgAAAA8AAAAhCAIAAACJEmZbAAAABGdBTUEAALGPC/xhBQAAACBjSFJNAAB6JgAAgIQAAPoAAACA6AAAdTAAAOpgAAA6mAAAF3CculE8AAAABmJLR0QA/wD/AP+gvaeTAAAAB3RJTUUH4gQQCyEOVbM2cwAAA7ZJREFUOMttVFtPJFUQ/qrOme7p6Rl6WBhYLrKrgLgEVzcEJhoJ7guJvvjom6/+BP+D+0CMf0WyJiQYs8aERFg2Q4yLiRfWWVhAZmF6rt3nlA89FyCe9EOlq07VV99XdchaS0QAyuXy3tOn9UZDmAUggKwdHhpaLhZ937fWMjNERES+fvRopFAAoIhyQAHIEwEAMH/v3sbGhogYYyAi6+vriWPQ9+97mQXwAqn7pKZdz0unE9fW1paI4OTkZHJyEoDvedOOOwPMEr9DPEc8A0xmMhnfB7C4uBjHsd7f3y+XywDS1qp2Owc1KJQkDEFHzVbVSwMolUp7e3u62WyKCIhcKwFoAuyhgzgHeNZUgQsgjqJqtcrU7cYBhkEeSIDks0AAzncvMzMnFkRgbRokuHYIEJHEAMA9x2sRA6JuYiEQbEvxsTEAhOhGtP2NrbCkCAqixVqlSo6qtFvoVtBXix5Y8xJmCiqvUjXWL2DOWw1IH10/WkQAPfO29+at6mAWly1T3gcqQtSP1/1uwA8f5D+eu6i1ODIykotHltXjUvbPl+HN3ALcHc+9+0bYJnv3jjOYRb0h5eP24lv29MIPa7WE6B4Snp2gyVHz4YPM/Iz2PUYrPnvF3/3cLv2Te16r0TXcxONDWJ7XxfddnXUEJJEZ1/j8o3jrV37+FyVK6F6PAxk7N6V0WhtiYgAcsQ4CdWfYAMLo8k0AYF792/BTMJElEQhgRGILIwcvakljnejE+uGZ+f3vWJmWrbWl3rZh2+H2k315vGsAWLmiPBNOX9svv422t5tSqXOlHp3Xv/8x/uIb22rbHuUd3FagmH45MA+/wgcL8e0R/eKInjyLAKuYjE3GpKcOwVjJB7lgyv2pckaXVhMHt536aRQZ01OHewPrOm5u3KlGZ7kUsiwuGc41s4U0k/qfOcnm3TA6pxTcW6TTIpZaVYnilue7tbB+TUsCixPrjGTHyA3ACoD4MYXHsYQuwg5z3MVN7FivAG8QzJJsBCvJjsHN4yZuK9YidnOgq7smYAXRcYcHgKUzvNIMDRGJdNUSALCGamdRwoO1lkdHRx3HAdA4RXgE0tSpxyCNiz+odioAHMcNggAisrq6CsBJuUrTyHs0/SnNfkbTn3BhXjFzKpUCUCwWoyiCiOzs7Liu219QhVSGWFH/D9Hm5qaIwBgjIru7u2trawMDOa0VdZ8bpTmbza6srCRPpjGGJIHPfHl5ub29fXh4eF45bzYaOpXKB/mJiYmlpaWxsTERIaL/AL4M0TIMhG9IAAAAJXRFWHRkYXRlOmNyZWF0ZQAyMDE4LTA0LTE2VDExOjMzOjE0KzAwOjAw9MwX9gAAACV0RVh0ZGF0ZTptb2RpZnkAMjAxOC0wNC0xNlQxMTozMzoxNCswMDowMIWRr0oAAAAASUVORK5CYII=)\"\n",
    "TrafficLightRed=\"url(data:image/png;base64,iVBORw0KGgoAAAANSUhEUgAAAA8AAAAhCAIAAACJEmZbAAAABGdBTUEAALGPC/xhBQAAACBjSFJNAAB6JgAAgIQAAPoAAACA6AAAdTAAAOpgAAA6mAAAF3CculE8AAAABmJLR0QA/wD/AP+gvaeTAAAAB3RJTUUH4gQQCyEOVbM2cwAAA6VJREFUOMtllE1vG1UUht9z7tyZsR1/JKnr0BQhtSrqgraolVykSqTqCoEELPgnbNjAAkXdsOJP8Ccq2OQDGQmRFBWptKuQKCRp0rQe22PPvfdlMU5C0+W55zlf77k6EkIQEQBbW1t/bm5meV6oetAAaWC73e7evVupVEIIqgqSJJeXly/MzwOoqH4AfAy9rgYAgJs3bjx69Iik9x4kHz58WDqutFrf1FrfIf5Wk+81+apan6lUS9fa2hpJ2d7evnP79t7+/myj8blDbZiJRinhgAn901bzV1+M+v179+6trq5Gm5ube/v7ELlCaQ6H1yS+Q70I9cAzODPInzarO/3+xsbGkydPojzPAcCYBfIW9FPYBSggAN4Xc8m5DWN3ADeZZFmmpSAQaUM+glmAKSAOKIACcovmphgAAqiqlkPAO04mHagHpPQBAYBgVBYHSJ7QgX94l4so6IEAOEFCv2P158kIAAEAU1ohj4P7QYuJMBFahiT4Q2u+TmRrNJSyDhBNqwhA/ujz31B8iehymv5j45/C+HGWKRmmDZzQU8NEf83Ff8uwWfEDrwcvvJCUkz7OcpMQvXyxMpcMCwfvXE0wO2d2++mrfo63c8/Wk8QM8+BrNWMjeM/B0DcrJp/E4/HkTVq0loRKEi7O2caMGCMIIR/JzoF7nSfjMeT/mhiVNOGFls611FaMxqo2qlXNe200qmeD6YnctIb1qoiRciQqPCSJpRoHlMs8pRk4KXykOFOLBBmIbOjO5waw9xKDEQ0DHOkJR4tw8Ar/HrOMPaNFkI34+3MeHTuOHcYujN3OIXvP6BxPM57qDRHsHYVfXmt7PlSqOhiY3X1HBBHhue2IgGSz2Wi8a1+ODvsRJQ51xIMXhQ/+fN8k0yRtLEZZcWgF6ikhmGbeaKcqer4TALXZuD85MjGSWYlSMGDcZ1GMK9V0MBi+QRs1tIWtof6OJA2IIYCak2zXh75g8KbegGjMahvpLEQJAoQazlxi0nprlz4EikvqOPudKANA48pViohyKg/zzIsKwglPAAhOBoeutEII2ul0VBXgcI/ZLsTKtJ4CEY6fy/AwAEiTtNFowHvf7XYBWBsbK50P5epncu0LufqJXrhuRNTaGMDS0hJJkFxfXz87FYBEsFVRI6cv1tqVlRWS8N6T7PV6Dx48qNdnoshM1QJMZOr1+v3791dXV8sbKyTL23x8fNzr9ba3t4+Ojkb5KLZxq9VaXFzsdrudTqdk/gNkQeRVLDIwDwAAACV0RVh0ZGF0ZTpjcmVhdGUAMjAxOC0wNC0xNlQxMTozMzoxNCswMDowMPTMF/YAAAAldEVYdGRhdGU6bW9kaWZ5ADIwMTgtMDQtMTZUMTE6MzM6MTQrMDA6MDCFka9KAAAAAElFTkSuQmCC)\"\n"
   ]
  },
  {
   "cell_type": "code",
   "execution_count": 8,
   "metadata": {},
   "outputs": [],
   "source": [
    "def LoadDicomFiles(X):\n",
    "    output = []\n",
    "    for dicom in X.value.keys():\n",
    "        output.append(dcmread(DicomBytesIO(uploader.value[dicom][\"content\"])))\n",
    "    return output"
   ]
  },
  {
   "cell_type": "code",
   "execution_count": 9,
   "metadata": {},
   "outputs": [],
   "source": [
    "TC018_image = LoadDicomFiles(uploader)"
   ]
  },
  {
   "cell_type": "markdown",
   "metadata": {},
   "source": [
    "| Código| Parámetro&nbsp;&nbsp;&nbsp;&nbsp;&nbsp;&nbsp;&nbsp;&nbsp;&nbsp;&nbsp;&nbsp;&nbsp;&nbsp;&nbsp;&nbsp;&nbsp;&nbsp;&nbsp;&nbsp;&nbsp;&nbsp;&nbsp;&nbsp;&nbsp;&nbsp;&nbsp;&nbsp;&nbsp;&nbsp;&nbsp;&nbsp;&nbsp;&nbsp;&nbsp;&nbsp;&nbsp;&nbsp;&nbsp;&nbsp;&nbsp;&nbsp;&nbsp;&nbsp;&nbsp;&nbsp;&nbsp;&nbsp;&nbsp;&nbsp;&nbsp;&nbsp;&nbsp;&nbsp;&nbsp;&nbsp;&nbsp;&nbsp;&nbsp;&nbsp;&nbsp;&nbsp;&nbsp;&nbsp;&nbsp;&nbsp;&nbsp;&nbsp;&nbsp;&nbsp;&nbsp;&nbsp;&nbsp;&nbsp;&nbsp;&nbsp;&nbsp;&nbsp;&nbsp;&nbsp;&nbsp;&nbsp;&nbsp;&nbsp;&nbsp;&nbsp;&nbsp;&nbsp;&nbsp;&nbsp;&nbsp;&nbsp;&nbsp;&nbsp;&nbsp;&nbsp;&nbsp;&nbsp;&nbsp;&nbsp;&nbsp;&nbsp;&nbsp;&nbsp;&nbsp;&nbsp;&nbsp;&nbsp;&nbsp;&nbsp;&nbsp;&nbsp;&nbsp;&nbsp;&nbsp;&nbsp;&nbsp;&nbsp;&nbsp;&nbsp;&nbsp;&nbsp;&nbsp;&nbsp;&nbsp;&nbsp;&nbsp;&nbsp;&nbsp;&nbsp;&nbsp;&nbsp;&nbsp;&nbsp;&nbsp;&nbsp;&nbsp;&nbsp;&nbsp;&nbsp;&nbsp;&nbsp;&nbsp;&nbsp;&nbsp;&nbsp;&nbsp;&nbsp;&nbsp;&nbsp;&nbsp;&nbsp;&nbsp;&nbsp;&nbsp;&nbsp;&nbsp;&nbsp;&nbsp;&nbsp;&nbsp; | &nbsp;&nbsp;&nbsp;&nbsp;&nbsp;&nbsp;&nbsp;&nbsp;&nbsp;Clasificación        \n",
    "| :- |:- | :-\n",
    "|[TC018](https://drive.google.com/open?id=14adFusPK1sqlF9hLEqKl86HMZ03XSFzf&disco=AAAADH081mY)| Resolución espacial| ESENCIAL"
   ]
  },
  {
   "cell_type": "code",
   "execution_count": 10,
   "metadata": {},
   "outputs": [],
   "source": [
    "#####################################################\n",
    "# TC018_image = datos[Tabla_Resumen[Tabla_Resumen[\"Z\"] == 20].index[0]]\n",
    "# TC018_image_Res = datos[Tabla_Resumen[Tabla_Resumen[\"Z\"] == -10].index[0]]\n",
    "#####################################################"
   ]
  },
  {
   "cell_type": "code",
   "execution_count": 11,
   "metadata": {},
   "outputs": [],
   "source": [
    "TC018_Resolution = TC018_image[0].PixelSpacing[0]\n",
    "TC018_accums, TC018_cx, TC018_cy, TC018_radii = BusquedaCirculos(\n",
    "    TC018_image[0].pixel_array, TC018_HoughParameters, TC018_Resolution\n",
    ")\n",
    "\n",
    "TC018_cx, TC018_cy\n",
    "\n",
    "TC018_DistanceMap = np.arange(\n",
    "    TC018_Limits[0] / TC018_Resolution,\n",
    "    TC018_Limits[1] / TC018_Resolution,\n",
    "    TC018_OverResolution,\n",
    ")"
   ]
  },
  {
   "cell_type": "code",
   "execution_count": 12,
   "metadata": {},
   "outputs": [],
   "source": [
    "TC018_WaterMask = createCircularMask(\n",
    "    TC018_image[0].pixel_array.shape[0],\n",
    "    TC018_image[0].pixel_array.shape[1],\n",
    "    center=(TC018_cx[0], TC018_cy[0]),\n",
    "    radius=int(Catphan_ExtRadius * 0.9 / TC018_Resolution)\n",
    "    * np.logical_not(\n",
    "        createCircularMask(\n",
    "            TC018_image[0].pixel_array.shape[0],\n",
    "            TC018_image[0].pixel_array.shape[1],\n",
    "            center=(TC018_cx[0], TC018_cy[0]),\n",
    "            radius=int(Catphan_ExtRadius * 0.8 / TC018_Resolution),\n",
    "        )\n",
    "    ),\n",
    ")\n",
    "TC018_AirMask = createCircularMask(\n",
    "    TC018_image[0].pixel_array.shape[0],\n",
    "    TC018_image[0].pixel_array.shape[1],\n",
    "    center=(TC018_cx[0], TC018_cy[0]),\n",
    "    radius=int(Catphan_ExtRadius * 1.3 / TC018_Resolution)\n",
    "    * np.logical_not(\n",
    "        createCircularMask(\n",
    "            TC018_image[0].pixel_array.shape[0],\n",
    "            TC018_image[0].pixel_array.shape[1],\n",
    "            center=(TC018_cx[0], TC018_cy[0]),\n",
    "            radius=int(Catphan_ExtRadius * 1.1 / TC018_Resolution),\n",
    "        )\n",
    "    ),\n",
    ")\n",
    "\n",
    "HUAgua = TC018_WaterMask * TC018_image[0].pixel_array\n",
    "\n",
    "HUAire = TC018_AirMask * TC018_image[0].pixel_array\n",
    "\n",
    "\n",
    "TC018_Angulo = math.sqrt(2 * TC018_Resolution / Catphan_ExtRadius)  # En radianes\n",
    "TC018_FrecuencyResolution = (\n",
    "    0.01 / TC018_Resolution\n",
    ")  # Resolución en frecuencia tomada según IEC62220-1\n",
    "TC018_FrecuenciaNyquist = 1 / 2.0 / TC018_Resolution\n",
    "TC018_Oversampling = int(1 / math.tan(TC018_Angulo))  # factor para el \"overfitting\"\n",
    "TC018_NumeroDePuntos = int(100 * TC018_Oversampling)"
   ]
  },
  {
   "cell_type": "code",
   "execution_count": 13,
   "metadata": {},
   "outputs": [],
   "source": [
    "TC018_comp = (\n",
    "    math.pi\n",
    "    / 2\n",
    "    / TC018_FrecuenciaNyquist\n",
    "    * np.arange(0, TC018_FrecuenciaNyquist, TC018_FrecuencyResolution)\n",
    ") / np.sin(\n",
    "    math.pi\n",
    "    / 2\n",
    "    / TC018_FrecuenciaNyquist\n",
    "    * np.arange(0, TC018_FrecuenciaNyquist, TC018_FrecuencyResolution)\n",
    ")\n",
    "\n",
    "TC018_image_PA = np.array([X.pixel_array for X in TC018_image])"
   ]
  },
  {
   "cell_type": "code",
   "execution_count": 14,
   "metadata": {},
   "outputs": [],
   "source": [
    "TC018_Limites = {\n",
    "    (\"Y\", \"Sup\", \"Min\"): np.max(\n",
    "        [0, TC018_cy[0] - int(Catphan_ExtRadius / TC018_Resolution) - 50]\n",
    "    ),\n",
    "    (\"Y\", \"Inf\", \"Max\"): np.min(\n",
    "        [\n",
    "            TC018_image_PA.shape[0] - 1,\n",
    "            TC018_cy[0] + int(Catphan_ExtRadius / TC018_Resolution) + 50,\n",
    "        ]\n",
    "    ),\n",
    "    (\"X\", \"Izq\", \"Min\"): np.max(\n",
    "        [0, TC018_cx[0] - int(Catphan_ExtRadius / TC018_Resolution) - 50]\n",
    "    ),\n",
    "    (\"X\", \"Dch\", \"Max\"): np.min(\n",
    "        [\n",
    "            TC018_image_PA.shape[1] - 1,\n",
    "            TC018_cx[0] + int(Catphan_ExtRadius / TC018_Resolution) + 50,\n",
    "        ]\n",
    "    ),\n",
    "}"
   ]
  },
  {
   "cell_type": "code",
   "execution_count": 15,
   "metadata": {},
   "outputs": [],
   "source": [
    "TC018_Data_Y = np.array(\n",
    "    [\n",
    "        [\n",
    "            X[\n",
    "                TC018_Limites[\"X\", \"Izq\", \"Min\"] : TC018_Limites[\"X\", \"Izq\", \"Min\"]\n",
    "                + 100,\n",
    "                TC018_cy[0] : TC018_cy[0] + TC018_Oversampling,\n",
    "            ],\n",
    "            X[\n",
    "                TC018_Limites[\"X\", \"Izq\", \"Min\"] : TC018_Limites[\"X\", \"Izq\", \"Min\"]\n",
    "                + 100,\n",
    "                TC018_cy[0] - TC018_Oversampling : TC018_cy[0],\n",
    "            ],\n",
    "            X[\n",
    "                TC018_Limites[\"X\", \"Dch\", \"Max\"]\n",
    "                - 100 : TC018_Limites[\"X\", \"Dch\", \"Max\"],\n",
    "                TC018_cy[0] : TC018_cy[0] + TC018_Oversampling,\n",
    "            ],\n",
    "            X[\n",
    "                TC018_Limites[\"X\", \"Dch\", \"Max\"]\n",
    "                - 100 : TC018_Limites[\"X\", \"Dch\", \"Max\"],\n",
    "                TC018_cy[0] - TC018_Oversampling : TC018_cy[0],\n",
    "            ],\n",
    "        ]\n",
    "        for X in TC018_image_PA\n",
    "    ]\n",
    ")"
   ]
  },
  {
   "cell_type": "code",
   "execution_count": 16,
   "metadata": {},
   "outputs": [],
   "source": [
    "TC018_Data_X = np.array(\n",
    "    [\n",
    "        [\n",
    "            X[\n",
    "                TC018_Limites[\"X\", \"Izq\", \"Min\"] : TC018_Limites[\"X\", \"Izq\", \"Min\"]\n",
    "                + 100,\n",
    "                TC018_cy[0] : TC018_cy[0] + TC018_Oversampling,\n",
    "            ],\n",
    "            X[\n",
    "                TC018_Limites[\"X\", \"Izq\", \"Min\"] : TC018_Limites[\"X\", \"Izq\", \"Min\"]\n",
    "                + 100,\n",
    "                TC018_cy[0] - TC018_Oversampling : TC018_cy[0],\n",
    "            ],\n",
    "            X[\n",
    "                TC018_Limites[\"X\", \"Dch\", \"Max\"]\n",
    "                - 100 : TC018_Limites[\"X\", \"Dch\", \"Max\"],\n",
    "                TC018_cy[0] : TC018_cy[0] + TC018_Oversampling,\n",
    "            ],\n",
    "            X[\n",
    "                TC018_Limites[\"X\", \"Dch\", \"Max\"]\n",
    "                - 100 : TC018_Limites[\"X\", \"Dch\", \"Max\"],\n",
    "                TC018_cy[0] - TC018_Oversampling : TC018_cy[0],\n",
    "            ],\n",
    "        ]\n",
    "        for X in TC018_image_PA\n",
    "    ]\n",
    ")\n",
    "\n",
    "for X in TC018_Data_X:\n",
    "    X[0] = np.flip(X[0], axis=0)\n",
    "    X[3] = np.flip(X[3], axis=0)"
   ]
  },
  {
   "cell_type": "code",
   "execution_count": 17,
   "metadata": {},
   "outputs": [],
   "source": [
    "TC018_Data_Y1 = np.reshape(\n",
    "    TC018_Data_Y,\n",
    "    (\n",
    "        TC018_Data_Y.shape[0] * TC018_Data_Y.shape[1],\n",
    "        TC018_Data_Y.shape[2] * TC018_Data_Y.shape[3],\n",
    "    ),\n",
    ")"
   ]
  },
  {
   "cell_type": "code",
   "execution_count": 18,
   "metadata": {},
   "outputs": [],
   "source": [
    "TC018_Data_X1 = np.reshape(\n",
    "    TC018_Data_X,\n",
    "    (\n",
    "        TC018_Data_X.shape[0] * TC018_Data_X.shape[1],\n",
    "        TC018_Data_X.shape[2] * TC018_Data_X.shape[3],\n",
    "    ),\n",
    ")"
   ]
  },
  {
   "cell_type": "code",
   "execution_count": 19,
   "metadata": {},
   "outputs": [],
   "source": [
    "TC018_Data_X1 = np.array(\n",
    "    [np.reshape(X, (X.shape[0] * X.shape[1])) for Y in TC018_Data_X for X in Y]\n",
    ")"
   ]
  },
  {
   "cell_type": "code",
   "execution_count": 20,
   "metadata": {},
   "outputs": [],
   "source": [
    "TC018_Data_Y1 = [\n",
    "    NormalizeMTF(X, HUAgua[HUAgua > 0.01].mean(), HUAire[HUAire > 0.01].mean())\n",
    "    for X in TC018_Data_Y1\n",
    "]"
   ]
  },
  {
   "cell_type": "code",
   "execution_count": 21,
   "metadata": {},
   "outputs": [],
   "source": [
    "TC018_Data_X1 = [\n",
    "    NormalizeMTF(X, HUAgua[HUAgua > 0.01].mean(), HUAire[HUAire > 0.01].mean())\n",
    "    for X in TC018_Data_X1\n",
    "]"
   ]
  },
  {
   "cell_type": "code",
   "execution_count": 22,
   "metadata": {},
   "outputs": [],
   "source": [
    "def GetMTF(X):\n",
    "    return np.absolute(fftpack.fft(np.gradient(X)))"
   ]
  },
  {
   "cell_type": "code",
   "execution_count": 23,
   "metadata": {},
   "outputs": [],
   "source": [
    "TC018_MTFY = np.array([GetMTF(X) for X in TC018_Data_Y1])\n",
    "TC018_MTFX = np.array([GetMTF(X) for X in TC018_Data_X1])"
   ]
  },
  {
   "cell_type": "code",
   "execution_count": 24,
   "metadata": {},
   "outputs": [],
   "source": [
    "def Suavizado(MTF):\n",
    "    MTF1 = [(MTF[i - 1] + MTF[i] + MTF[i + 1]) / 3 for i in range(1, 49)]\n",
    "    MTF1.insert(0, 1)\n",
    "    MTF1.insert(49, (MTF[48] + MTF[49]) / 2)\n",
    "    MTF1 = np.array(MTF1)\n",
    "    return MTF1\n",
    "\n",
    "\n",
    "TC018_MTFY = np.array([Suavizado(X) for X in TC018_MTFY])\n",
    "TC018_MTFX = np.array([Suavizado(X) for X in TC018_MTFX])"
   ]
  },
  {
   "cell_type": "code",
   "execution_count": 25,
   "metadata": {},
   "outputs": [],
   "source": [
    "TC018_MTFX_Data = np.around(\n",
    "    np.vstack([np.arange(0, 10, 0.2), TC018_MTFX.mean(axis=0)[0:50]]).transpose(), 4\n",
    ")\n",
    "TC018_MTFY_Data = np.around(\n",
    "    np.vstack([np.arange(0, 10, 0.2), TC018_MTFY.mean(axis=0)[0:50]]).transpose(), 4\n",
    ")"
   ]
  },
  {
   "cell_type": "code",
   "execution_count": 26,
   "metadata": {},
   "outputs": [],
   "source": [
    "def TC018_CalcularMTF(X, data):\n",
    "    return np.array(\n",
    "        [\n",
    "            np.interp(x, np.sort(data.mean(axis=0)[0:50]), np.arange(10, 0, -0.2))\n",
    "            for x in X\n",
    "        ]\n",
    "    )"
   ]
  },
  {
   "cell_type": "code",
   "execution_count": 27,
   "metadata": {},
   "outputs": [],
   "source": [
    "TC018_SemaforosX = np.around(\n",
    "    TC018_CalcularMTF(np.array([0.5, 0.1, 0.02]), TC018_MTFX), 2\n",
    ")\n",
    "TC018_SemaforosY = np.around(\n",
    "    TC018_CalcularMTF(np.array([0.5, 0.1, 0.02]), TC018_MTFY), 2\n",
    ")\n",
    "\n",
    "\n",
    "def round_up_to_odd(f):\n",
    "    return (np.ceil(f * 10) // 2 * 2 - 2) / 10"
   ]
  },
  {
   "cell_type": "code",
   "execution_count": 28,
   "metadata": {},
   "outputs": [],
   "source": [
    "TC018_SemaforosX = round_up_to_odd(TC018_SemaforosX)\n",
    "TC018_SemaforosY = round_up_to_odd(TC018_SemaforosY)"
   ]
  },
  {
   "cell_type": "code",
   "execution_count": 29,
   "metadata": {},
   "outputs": [],
   "source": [
    "dataX = [{\"x\": X[0], \"y\": X[1], \"marker\": {\"radius\": 1}} for X in TC018_MTFX_Data]\n",
    "dataY = [{\"x\": X[0], \"y\": X[1], \"marker\": {\"radius\": 1}} for X in TC018_MTFY_Data]\n",
    "data = [\n",
    "    {\"x\": X[0], \"y\": X[1], \"marker\": {\"radius\": 1}}\n",
    "    for X in (TC018_MTFY_Data + TC018_MTFX_Data) / 2\n",
    "]"
   ]
  },
  {
   "cell_type": "code",
   "execution_count": 30,
   "metadata": {},
   "outputs": [],
   "source": [
    "for X in range(len(data)):\n",
    "    rojo = True\n",
    "    amarillo = True\n",
    "    verde = True\n",
    "    if data[X][\"x\"] == TC018_SemaforosX[0]:\n",
    "        data[X][\"marker\"] = {\"symbol\": TrafficLightGreen}\n",
    "    elif data[X][\"x\"] == TC018_SemaforosX[1]:\n",
    "        data[X][\"marker\"] = {\n",
    "            # \"symbol\": \"url(http://localhost:8888/tree/Resources/Yellow.png)\"\n",
    "            \"symbol\": TrafficLightYellow\n",
    "        }\n",
    "    elif data[X][\"x\"] == TC018_SemaforosX[2]:\n",
    "        data[X][\"marker\"] = {\n",
    "            # \"symbol\": \"url(http://localhost:8888/tree/Resources/Red.png)\"\n",
    "            \"symbol\": TrafficLightRed\n",
    "        }"
   ]
  },
  {
   "cell_type": "code",
   "execution_count": 31,
   "metadata": {},
   "outputs": [
    {
     "data": {
      "text/html": [
       "<iframe style=\"border:0;outline:none;overflow:hidden\" srcdoc=\"&lt;!DOCTYPE html&gt; &lt;html lang=&quot;en&quot;&gt; &lt;head&gt; &lt;meta charset=&quot;utf-8&quot; /&gt; &lt;link href=&quot;https://www.highcharts.com/highslide/highslide.css&quot; rel=&quot;stylesheet&quot; /&gt; &lt;script type=&quot;text/javascript&quot; src=&quot;https://ajax.googleapis.com/ajax/libs/jquery/1.9.1/jquery.min.js&quot;&gt;&lt;/script&gt; &lt;script type=&quot;text/javascript&quot; src=&quot;https://code.highcharts.com/6/highcharts.js&quot;&gt;&lt;/script&gt; &lt;script type=&quot;text/javascript&quot; src=&quot;https://code.highcharts.com/6/highcharts-more.js&quot;&gt;&lt;/script&gt; &lt;script type=&quot;text/javascript&quot; src=&quot;https://code.highcharts.com/6/modules/heatmap.js&quot;&gt;&lt;/script&gt; &lt;script type=&quot;text/javascript&quot; src=&quot;https://code.highcharts.com/6/modules/exporting.js&quot;&gt;&lt;/script&gt; &lt;/head&gt; &lt;body style=&quot;margin:0;padding:0&quot;&gt; &lt;div id=&quot;container&quot; style=&quot;width:800px;height:600px;&quot;&gt;Loading....&lt;/div&gt; &lt;script&gt; $(function(){ Highcharts.setOptions({&quot;global&quot;: {}, &quot;lang&quot;: {}}); var option = {&quot;chart&quot;: {&quot;renderTo&quot;: &quot;container&quot;, &quot;width&quot;: 800, &quot;height&quot;: 600, &quot;zoomType&quot;: &quot;xy&quot;}, &quot;colors&quot;: {}, &quot;credits&quot;: {&quot;enabled&quot;: false}, &quot;drilldown&quot;: {}, &quot;exporting&quot;: {}, &quot;labels&quot;: {}, &quot;legend&quot;: {}, &quot;loading&quot;: {}, &quot;navigation&quot;: {}, &quot;pane&quot;: {}, &quot;plotOptions&quot;: {}, &quot;series&quot;: {}, &quot;subtitle&quot;: {}, &quot;title&quot;: {&quot;text&quot;: &quot;MTF&quot;}, &quot;tooltip&quot;: {&quot;shared&quot;: true, &quot;valueDecimals&quot;: 1}, &quot;xAxis&quot;: {&quot;labels&quot;: {&quot;useHTML&quot;: true, &quot;format&quot;: &quot;{value} cm&lt;sup&gt;-1&lt;/sup&gt;&quot;, &quot;enabled&quot;: true}, &quot;title&quot;: {&quot;text&quot;: &quot;Frecuencia espacial&quot;, &quot;style&quot;: {&quot;color&quot;: Highcharts.getOptions().colors[1]}}}, &quot;yAxis&quot;: [{&quot;labels&quot;: {&quot;format&quot;: &quot;{value}&quot;, &quot;style&quot;: {&quot;color&quot;: Highcharts.getOptions().colors[1], &quot;step&quot;: 150}}, &quot;title&quot;: {&quot;text&quot;: &quot;Funci\\u00f3n de trasferencia de modulaci\\u00f3n&quot;, &quot;style&quot;: {&quot;color&quot;: Highcharts.getOptions().colors[1]}}}]}; var chart = new Highcharts.Chart(option); var data = [{&quot;data&quot;: [{&quot;x&quot;: 0.0, &quot;y&quot;: 1.0, &quot;marker&quot;: {&quot;radius&quot;: 1}}, {&quot;x&quot;: 0.2, &quot;y&quot;: 0.989, &quot;marker&quot;: {&quot;radius&quot;: 1}}, {&quot;x&quot;: 0.4, &quot;y&quot;: 0.9736, &quot;marker&quot;: {&quot;radius&quot;: 1}}, {&quot;x&quot;: 0.6, &quot;y&quot;: 0.9545, &quot;marker&quot;: {&quot;radius&quot;: 1}}, {&quot;x&quot;: 0.8, &quot;y&quot;: 0.938, &quot;marker&quot;: {&quot;radius&quot;: 1}}, {&quot;x&quot;: 1.0, &quot;y&quot;: 0.921, &quot;marker&quot;: {&quot;radius&quot;: 1}}, {&quot;x&quot;: 1.2, &quot;y&quot;: 0.9032, &quot;marker&quot;: {&quot;radius&quot;: 1}}, {&quot;x&quot;: 1.4, &quot;y&quot;: 0.8828, &quot;marker&quot;: {&quot;radius&quot;: 1}}, {&quot;x&quot;: 1.6, &quot;y&quot;: 0.8592, &quot;marker&quot;: {&quot;radius&quot;: 1}}, {&quot;x&quot;: 1.8, &quot;y&quot;: 0.8348, &quot;marker&quot;: {&quot;radius&quot;: 1}}, {&quot;x&quot;: 2.0, &quot;y&quot;: 0.807, &quot;marker&quot;: {&quot;radius&quot;: 1}}, {&quot;x&quot;: 2.2, &quot;y&quot;: 0.7805, &quot;marker&quot;: {&quot;radius&quot;: 1}}, {&quot;x&quot;: 2.4, &quot;y&quot;: 0.7506, &quot;marker&quot;: {&quot;radius&quot;: 1}}, {&quot;x&quot;: 2.6, &quot;y&quot;: 0.7223, &quot;marker&quot;: {&quot;radius&quot;: 1}}, {&quot;x&quot;: 2.8, &quot;y&quot;: 0.6912, &quot;marker&quot;: {&quot;radius&quot;: 1}}, {&quot;x&quot;: 3.0, &quot;y&quot;: 0.6616, &quot;marker&quot;: {&quot;radius&quot;: 1}}, {&quot;x&quot;: 3.2, &quot;y&quot;: 0.6323, &quot;marker&quot;: {&quot;radius&quot;: 1}}, {&quot;x&quot;: 3.4, &quot;y&quot;: 0.6021, &quot;marker&quot;: {&quot;radius&quot;: 1}}, {&quot;x&quot;: 3.6, &quot;y&quot;: 0.5726, &quot;marker&quot;: {&quot;radius&quot;: 1}}, {&quot;x&quot;: 3.8, &quot;y&quot;: 0.5403, &quot;marker&quot;: {&quot;radius&quot;: 1}}, {&quot;x&quot;: 4.0, &quot;y&quot;: 0.5101, &quot;marker&quot;: {&quot;radius&quot;: 1}}, {&quot;x&quot;: 4.2, &quot;y&quot;: 0.4764, &quot;marker&quot;: {&quot;radius&quot;: 1}}, {&quot;x&quot;: 4.4, &quot;y&quot;: 0.4469, &quot;marker&quot;: {&quot;radius&quot;: 1}}, {&quot;x&quot;: 4.6, &quot;y&quot;: 0.415, &quot;marker&quot;: {&quot;radius&quot;: 1}}, {&quot;x&quot;: 4.8, &quot;y&quot;: 0.3882, &quot;marker&quot;: {&quot;radius&quot;: 1}}, {&quot;x&quot;: 5.0, &quot;y&quot;: 0.3586, &quot;marker&quot;: {&quot;radius&quot;: 1}}, {&quot;x&quot;: 5.2, &quot;y&quot;: 0.3327, &quot;marker&quot;: {&quot;radius&quot;: 1}}, {&quot;x&quot;: 5.4, &quot;y&quot;: 0.3075, &quot;marker&quot;: {&quot;radius&quot;: 1}}, {&quot;x&quot;: 5.6, &quot;y&quot;: 0.2816, &quot;marker&quot;: {&quot;radius&quot;: 1}}, {&quot;x&quot;: 5.8, &quot;y&quot;: 0.2591, &quot;marker&quot;: {&quot;radius&quot;: 1}}, {&quot;x&quot;: 6.0, &quot;y&quot;: 0.2351, &quot;marker&quot;: {&quot;radius&quot;: 1}}, {&quot;x&quot;: 6.2, &quot;y&quot;: 0.2166, &quot;marker&quot;: {&quot;radius&quot;: 1}}, {&quot;x&quot;: 6.4, &quot;y&quot;: 0.1961, &quot;marker&quot;: {&quot;radius&quot;: 1}}, {&quot;x&quot;: 6.6, &quot;y&quot;: 0.1776, &quot;marker&quot;: {&quot;radius&quot;: 1}}, {&quot;x&quot;: 6.8, &quot;y&quot;: 0.1576, &quot;marker&quot;: {&quot;radius&quot;: 1}}, {&quot;x&quot;: 7.0, &quot;y&quot;: 0.1409, &quot;marker&quot;: {&quot;radius&quot;: 1}}, {&quot;x&quot;: 7.2, &quot;y&quot;: 0.1257, &quot;marker&quot;: {&quot;radius&quot;: 1}}, {&quot;x&quot;: 7.4, &quot;y&quot;: 0.1116, &quot;marker&quot;: {&quot;radius&quot;: 1}}, {&quot;x&quot;: 7.6, &quot;y&quot;: 0.0977, &quot;marker&quot;: {&quot;radius&quot;: 1}}, {&quot;x&quot;: 7.8, &quot;y&quot;: 0.0848, &quot;marker&quot;: {&quot;radius&quot;: 1}}, {&quot;x&quot;: 8.0, &quot;y&quot;: 0.0752, &quot;marker&quot;: {&quot;radius&quot;: 1}}, {&quot;x&quot;: 8.2, &quot;y&quot;: 0.0647, &quot;marker&quot;: {&quot;radius&quot;: 1}}, {&quot;x&quot;: 8.4, &quot;y&quot;: 0.0573, &quot;marker&quot;: {&quot;radius&quot;: 1}}, {&quot;x&quot;: 8.6, &quot;y&quot;: 0.0492, &quot;marker&quot;: {&quot;radius&quot;: 1}}, {&quot;x&quot;: 8.8, &quot;y&quot;: 0.0431, &quot;marker&quot;: {&quot;radius&quot;: 1}}, {&quot;x&quot;: 9.0, &quot;y&quot;: 0.0355, &quot;marker&quot;: {&quot;radius&quot;: 1}}, {&quot;x&quot;: 9.2, &quot;y&quot;: 0.03, &quot;marker&quot;: {&quot;radius&quot;: 1}}, {&quot;x&quot;: 9.4, &quot;y&quot;: 0.0252, &quot;marker&quot;: {&quot;radius&quot;: 1}}, {&quot;x&quot;: 9.6, &quot;y&quot;: 0.0213, &quot;marker&quot;: {&quot;radius&quot;: 1}}, {&quot;x&quot;: 9.8, &quot;y&quot;: 0.0192, &quot;marker&quot;: {&quot;radius&quot;: 1}}], &quot;type&quot;: &quot;spline&quot;, &quot;xAxis&quot;: 0, &quot;yAxis&quot;: 0, &quot;name&quot;: &quot;MTFX&quot;, &quot;tooltip&quot;: {&quot;headerFormat&quot;: &quot;frecuencia: {point.x:.2f} cm &lt;sup&gt;-1&lt;/sup&gt;&lt;br&gt;&quot;, &quot;pointFormat&quot;: &quot;&lt;span style=\\&quot;font-weight: bold; color: {series.color}\\&quot;&gt;{series.name}&lt;/span&gt;: &lt;b&gt;{point.y:.4f}&lt;/b&gt;&lt;br&gt;&quot;}}, {&quot;data&quot;: [{&quot;x&quot;: 0.0, &quot;y&quot;: 1.0, &quot;marker&quot;: {&quot;radius&quot;: 1}}, {&quot;x&quot;: 0.2, &quot;y&quot;: 0.989, &quot;marker&quot;: {&quot;radius&quot;: 1}}, {&quot;x&quot;: 0.4, &quot;y&quot;: 0.9732, &quot;marker&quot;: {&quot;radius&quot;: 1}}, {&quot;x&quot;: 0.6, &quot;y&quot;: 0.9539, &quot;marker&quot;: {&quot;radius&quot;: 1}}, {&quot;x&quot;: 0.8, &quot;y&quot;: 0.9369, &quot;marker&quot;: {&quot;radius&quot;: 1}}, {&quot;x&quot;: 1.0, &quot;y&quot;: 0.9195, &quot;marker&quot;: {&quot;radius&quot;: 1}}, {&quot;x&quot;: 1.2, &quot;y&quot;: 0.901, &quot;marker&quot;: {&quot;radius&quot;: 1}}, {&quot;x&quot;: 1.4, &quot;y&quot;: 0.8797, &quot;marker&quot;: {&quot;radius&quot;: 1}}, {&quot;x&quot;: 1.6, &quot;y&quot;: 0.8553, &quot;marker&quot;: {&quot;radius&quot;: 1}}, {&quot;x&quot;: 1.8, &quot;y&quot;: 0.8299, &quot;marker&quot;: {&quot;radius&quot;: 1}}, {&quot;x&quot;: 2.0, &quot;y&quot;: 0.8013, &quot;marker&quot;: {&quot;radius&quot;: 1}}, {&quot;x&quot;: 2.2, &quot;y&quot;: 0.7736, &quot;marker&quot;: {&quot;radius&quot;: 1}}, {&quot;x&quot;: 2.4, &quot;y&quot;: 0.7429, &quot;marker&quot;: {&quot;radius&quot;: 1}}, {&quot;x&quot;: 2.6, &quot;y&quot;: 0.7134, &quot;marker&quot;: {&quot;radius&quot;: 1}}, {&quot;x&quot;: 2.8, &quot;y&quot;: 0.6814, &quot;marker&quot;: {&quot;radius&quot;: 1}}, {&quot;x&quot;: 3.0, &quot;y&quot;: 0.6507, &quot;marker&quot;: {&quot;radius&quot;: 1}}, {&quot;x&quot;: 3.2, &quot;y&quot;: 0.6205, &quot;marker&quot;: {&quot;radius&quot;: 1}}, {&quot;x&quot;: 3.4, &quot;y&quot;: 0.5898, &quot;marker&quot;: {&quot;radius&quot;: 1}}, {&quot;x&quot;: 3.6, &quot;y&quot;: 0.5596, &quot;marker&quot;: {&quot;radius&quot;: 1}}, {&quot;x&quot;: 3.8, &quot;y&quot;: 0.5269, &quot;marker&quot;: {&quot;radius&quot;: 1}}, {&quot;x&quot;: 4.0, &quot;y&quot;: 0.496, &quot;marker&quot;: {&quot;radius&quot;: 1}}, {&quot;x&quot;: 4.2, &quot;y&quot;: 0.4618, &quot;marker&quot;: {&quot;radius&quot;: 1}}, {&quot;x&quot;: 4.4, &quot;y&quot;: 0.4322, &quot;marker&quot;: {&quot;radius&quot;: 1}}, {&quot;x&quot;: 4.6, &quot;y&quot;: 0.4001, &quot;marker&quot;: {&quot;radius&quot;: 1}}, {&quot;x&quot;: 4.8, &quot;y&quot;: 0.3728, &quot;marker&quot;: {&quot;radius&quot;: 1}}, {&quot;x&quot;: 5.0, &quot;y&quot;: 0.343, &quot;marker&quot;: {&quot;radius&quot;: 1}}, {&quot;x&quot;: 5.2, &quot;y&quot;: 0.3173, &quot;marker&quot;: {&quot;radius&quot;: 1}}, {&quot;x&quot;: 5.4, &quot;y&quot;: 0.2929, &quot;marker&quot;: {&quot;radius&quot;: 1}}, {&quot;x&quot;: 5.6, &quot;y&quot;: 0.2676, &quot;marker&quot;: {&quot;radius&quot;: 1}}, {&quot;x&quot;: 5.8, &quot;y&quot;: 0.2446, &quot;marker&quot;: {&quot;radius&quot;: 1}}, {&quot;x&quot;: 6.0, &quot;y&quot;: 0.2216, &quot;marker&quot;: {&quot;radius&quot;: 1}}, {&quot;x&quot;: 6.2, &quot;y&quot;: 0.2022, &quot;marker&quot;: {&quot;radius&quot;: 1}}, {&quot;x&quot;: 6.4, &quot;y&quot;: 0.1833, &quot;marker&quot;: {&quot;radius&quot;: 1}}, {&quot;x&quot;: 6.6, &quot;y&quot;: 0.1643, &quot;marker&quot;: {&quot;radius&quot;: 1}}, {&quot;x&quot;: 6.8, &quot;y&quot;: 0.1458, &quot;marker&quot;: {&quot;radius&quot;: 1}}, {&quot;x&quot;: 7.0, &quot;y&quot;: 0.1287, &quot;marker&quot;: {&quot;radius&quot;: 1}}, {&quot;x&quot;: 7.2, &quot;y&quot;: 0.1143, &quot;marker&quot;: {&quot;radius&quot;: 1}}, {&quot;x&quot;: 7.4, &quot;y&quot;: 0.1012, &quot;marker&quot;: {&quot;radius&quot;: 1}}, {&quot;x&quot;: 7.6, &quot;y&quot;: 0.0889, &quot;marker&quot;: {&quot;radius&quot;: 1}}, {&quot;x&quot;: 7.8, &quot;y&quot;: 0.0764, &quot;marker&quot;: {&quot;radius&quot;: 1}}, {&quot;x&quot;: 8.0, &quot;y&quot;: 0.0676, &quot;marker&quot;: {&quot;radius&quot;: 1}}, {&quot;x&quot;: 8.2, &quot;y&quot;: 0.0582, &quot;marker&quot;: {&quot;radius&quot;: 1}}, {&quot;x&quot;: 8.4, &quot;y&quot;: 0.052, &quot;marker&quot;: {&quot;radius&quot;: 1}}, {&quot;x&quot;: 8.6, &quot;y&quot;: 0.0448, &quot;marker&quot;: {&quot;radius&quot;: 1}}, {&quot;x&quot;: 8.8, &quot;y&quot;: 0.0389, &quot;marker&quot;: {&quot;radius&quot;: 1}}, {&quot;x&quot;: 9.0, &quot;y&quot;: 0.0318, &quot;marker&quot;: {&quot;radius&quot;: 1}}, {&quot;x&quot;: 9.2, &quot;y&quot;: 0.0269, &quot;marker&quot;: {&quot;radius&quot;: 1}}, {&quot;x&quot;: 9.4, &quot;y&quot;: 0.0233, &quot;marker&quot;: {&quot;radius&quot;: 1}}, {&quot;x&quot;: 9.6, &quot;y&quot;: 0.02, &quot;marker&quot;: {&quot;radius&quot;: 1}}, {&quot;x&quot;: 9.8, &quot;y&quot;: 0.0183, &quot;marker&quot;: {&quot;radius&quot;: 1}}], &quot;type&quot;: &quot;spline&quot;, &quot;xAxis&quot;: 0, &quot;yAxis&quot;: 0, &quot;name&quot;: &quot;MTFY&quot;, &quot;tooltip&quot;: {&quot;headerFormat&quot;: &quot;frecuencia: {point.x:.2f} cm &lt;sup&gt;-1&lt;/sup&gt;&lt;br&gt;&quot;, &quot;pointFormat&quot;: &quot;&lt;span style=\\&quot;font-weight: bold; color: {series.color}\\&quot;&gt;{series.name}&lt;/span&gt;: &lt;b&gt;{point.y:.4f}&lt;/b&gt;&lt;br&gt;&quot;}}, {&quot;data&quot;: [{&quot;x&quot;: 0.0, &quot;y&quot;: 1.0, &quot;marker&quot;: {&quot;radius&quot;: 1}}, {&quot;x&quot;: 0.2, &quot;y&quot;: 0.989, &quot;marker&quot;: {&quot;radius&quot;: 1}}, {&quot;x&quot;: 0.4, &quot;y&quot;: 0.9734, &quot;marker&quot;: {&quot;radius&quot;: 1}}, {&quot;x&quot;: 0.6, &quot;y&quot;: 0.9541999999999999, &quot;marker&quot;: {&quot;radius&quot;: 1}}, {&quot;x&quot;: 0.8, &quot;y&quot;: 0.9374499999999999, &quot;marker&quot;: {&quot;radius&quot;: 1}}, {&quot;x&quot;: 1.0, &quot;y&quot;: 0.92025, &quot;marker&quot;: {&quot;radius&quot;: 1}}, {&quot;x&quot;: 1.2, &quot;y&quot;: 0.9021, &quot;marker&quot;: {&quot;radius&quot;: 1}}, {&quot;x&quot;: 1.4, &quot;y&quot;: 0.8812500000000001, &quot;marker&quot;: {&quot;radius&quot;: 1}}, {&quot;x&quot;: 1.6, &quot;y&quot;: 0.85725, &quot;marker&quot;: {&quot;radius&quot;: 1}}, {&quot;x&quot;: 1.8, &quot;y&quot;: 0.8323499999999999, &quot;marker&quot;: {&quot;radius&quot;: 1}}, {&quot;x&quot;: 2.0, &quot;y&quot;: 0.80415, &quot;marker&quot;: {&quot;radius&quot;: 1}}, {&quot;x&quot;: 2.2, &quot;y&quot;: 0.77705, &quot;marker&quot;: {&quot;radius&quot;: 1}}, {&quot;x&quot;: 2.4, &quot;y&quot;: 0.74675, &quot;marker&quot;: {&quot;radius&quot;: 1}}, {&quot;x&quot;: 2.6, &quot;y&quot;: 0.7178500000000001, &quot;marker&quot;: {&quot;radius&quot;: 1}}, {&quot;x&quot;: 2.8, &quot;y&quot;: 0.6863, &quot;marker&quot;: {&quot;radius&quot;: 1}}, {&quot;x&quot;: 3.0, &quot;y&quot;: 0.65615, &quot;marker&quot;: {&quot;radius&quot;: 1}}, {&quot;x&quot;: 3.2, &quot;y&quot;: 0.6264000000000001, &quot;marker&quot;: {&quot;radius&quot;: 1}}, {&quot;x&quot;: 3.4, &quot;y&quot;: 0.59595, &quot;marker&quot;: {&quot;radius&quot;: 1}}, {&quot;x&quot;: 3.6, &quot;y&quot;: 0.5661, &quot;marker&quot;: {&quot;radius&quot;: 1}}, {&quot;x&quot;: 3.8, &quot;y&quot;: 0.5336000000000001, &quot;marker&quot;: {&quot;radius&quot;: 1}}, {&quot;x&quot;: 4.0, &quot;y&quot;: 0.50305, &quot;marker&quot;: {&quot;symbol&quot;: &quot;url(data:image/png;base64,iVBORw0KGgoAAAANSUhEUgAAAA8AAAAhCAIAAACJEmZbAAAABGdBTUEAALGPC/xhBQAAACBjSFJNAAB6JgAAgIQAAPoAAACA6AAAdTAAAOpgAAA6mAAAF3CculE8AAAABmJLR0QA/wD/AP+gvaeTAAAAB3RJTUUH4gQQCyENzLpnyQAAA6BJREFUOMtllN9qVFcUxr+19j7/ZjL/4iQhQQNiCC1oay1FMIVeeFFrL/oChV4U+hJC8Q36MPW62F60ITGEGkLBCIrGGmN00iQzc2Zy9vp6cWYmovvq7LN+e+21vm/vLWYmIgB2dnY2Nzf7eU5VkgIoOTMzs7KyUq/XzUxVQZLknTt36vU6AAfUgBmggdFYXl6+d+8eyRACSN69e7cMtKdqn6aVy+Iuq/tE3KU0q6RpGbp//z5JPHv2rN1uA5jKsqUoWQKWRT+GfgRdAs5Xqlm1CuD69etm5h8+fHhwcACRLJieDhviWpQUIHAMeZkPjrKkD2xtbW1vb/vBYABARGKyBVmgppBy9ykgMzuCHAHF6Wm329VSEAIJ0IakEAMIEDCgAZm0q6o6+iRhlkCIcebxMHKM8Izu0AJExokJCCz3bi8Uk5UjWiAd8h+1IPSAgg526v3fkR4Nh2WpADzGOMhHDPuwC9BaHPWdf2pFJ+8JR+g7dDlxUTIdvUWvF+PUivxwVNAE95MORPT8XNqIusMAoyXKtOX2fXp4PJjgZ7mbtSTRbgGr1VzsURTo9kKjov1hXHpyRotoNbVKytnpqDal3oGBgxwvXof/+n4wGMmqY+Uli9luaKupUaoSqUSukrnFGTQqZ43pxALvWKuIqHAcCZAkkiy2kWgTmsbBMDgFbZyHBGnEce8DdwC8OuRJj56GggxEwQj26hB7HZZr3/FS0O1j4zH33xahX1i3KPrF8wOu7TCEiTnv6K0q+x37bcPNX7BaSw9fu39fFoCpiL3njqqYcXa2vfSdP0n3fIx5Y/Rnurs2DPygbjNOVWrL32Z5dU8HYscMeWh91l/8vCZw71cC4MKVRjd5kVQx84VU5xiG+mbH7Cifflp/c9ApL82I9hLHc8PaRVv6RqeX6WMAXPxKniwOTrbrbw5GZ3bipaZtO/8lZq/AeyCAAVGKi7c4d1UnJY/oYTgNrjd9CTCyPKUCK+BTWNItJRYRz9G1C/s7ffVKG/2gQRTDI3nyV7ecmpnOz887pwCe/47Hv8J7uAji4GKox4NfdH+LANIkazQaIHnjxgqASJOoIis/6w8P9KdH7vs//NUfI0CjKAZw8+ZNkiC5vr6eJMmZBRGyaRE5O0KVSmV1dZUkQggkNzc3b9++3Wo1kyxWcYCoapxGzVbz1te31tbWyjdWSJZv88nJycbGxu7ubuewk+d5FEXNRnNhYeHatWvnzp0rmf8BxVXVHXjMTCwAAAAldEVYdGRhdGU6Y3JlYXRlADIwMTgtMDQtMTZUMTE6MzM6MTMrMDA6MDAxayl4AAAAJXRFWHRkYXRlOm1vZGlmeQAyMDE4LTA0LTE2VDExOjMzOjEzKzAwOjAwQDaRxAAAAABJRU5ErkJggg==)&quot;}}, {&quot;x&quot;: 4.2, &quot;y&quot;: 0.46909999999999996, &quot;marker&quot;: {&quot;radius&quot;: 1}}, {&quot;x&quot;: 4.4, &quot;y&quot;: 0.43955, &quot;marker&quot;: {&quot;radius&quot;: 1}}, {&quot;x&quot;: 4.6, &quot;y&quot;: 0.40754999999999997, &quot;marker&quot;: {&quot;radius&quot;: 1}}, {&quot;x&quot;: 4.8, &quot;y&quot;: 0.3805, &quot;marker&quot;: {&quot;radius&quot;: 1}}, {&quot;x&quot;: 5.0, &quot;y&quot;: 0.3508, &quot;marker&quot;: {&quot;radius&quot;: 1}}, {&quot;x&quot;: 5.2, &quot;y&quot;: 0.325, &quot;marker&quot;: {&quot;radius&quot;: 1}}, {&quot;x&quot;: 5.4, &quot;y&quot;: 0.3002, &quot;marker&quot;: {&quot;radius&quot;: 1}}, {&quot;x&quot;: 5.6, &quot;y&quot;: 0.2746, &quot;marker&quot;: {&quot;radius&quot;: 1}}, {&quot;x&quot;: 5.8, &quot;y&quot;: 0.25185, &quot;marker&quot;: {&quot;radius&quot;: 1}}, {&quot;x&quot;: 6.0, &quot;y&quot;: 0.22835, &quot;marker&quot;: {&quot;radius&quot;: 1}}, {&quot;x&quot;: 6.2, &quot;y&quot;: 0.20939999999999998, &quot;marker&quot;: {&quot;radius&quot;: 1}}, {&quot;x&quot;: 6.4, &quot;y&quot;: 0.18969999999999998, &quot;marker&quot;: {&quot;radius&quot;: 1}}, {&quot;x&quot;: 6.6, &quot;y&quot;: 0.17095, &quot;marker&quot;: {&quot;radius&quot;: 1}}, {&quot;x&quot;: 6.8, &quot;y&quot;: 0.1517, &quot;marker&quot;: {&quot;radius&quot;: 1}}, {&quot;x&quot;: 7.0, &quot;y&quot;: 0.1348, &quot;marker&quot;: {&quot;radius&quot;: 1}}, {&quot;x&quot;: 7.2, &quot;y&quot;: 0.12, &quot;marker&quot;: {&quot;radius&quot;: 1}}, {&quot;x&quot;: 7.4, &quot;y&quot;: 0.1064, &quot;marker&quot;: {&quot;radius&quot;: 1}}, {&quot;x&quot;: 7.6, &quot;y&quot;: 0.0933, &quot;marker&quot;: {&quot;symbol&quot;: &quot;url(data:image/png;base64,iVBORw0KGgoAAAANSUhEUgAAAA8AAAAhCAIAAACJEmZbAAAABGdBTUEAALGPC/xhBQAAACBjSFJNAAB6JgAAgIQAAPoAAACA6AAAdTAAAOpgAAA6mAAAF3CculE8AAAABmJLR0QA/wD/AP+gvaeTAAAAB3RJTUUH4gQQCyEOVbM2cwAAA7ZJREFUOMttVFtPJFUQ/qrOme7p6Rl6WBhYLrKrgLgEVzcEJhoJ7guJvvjom6/+BP+D+0CMf0WyJiQYs8aERFg2Q4yLiRfWWVhAZmF6rt3nlA89FyCe9EOlq07VV99XdchaS0QAyuXy3tOn9UZDmAUggKwdHhpaLhZ937fWMjNERES+fvRopFAAoIhyQAHIEwEAMH/v3sbGhogYYyAi6+vriWPQ9+97mQXwAqn7pKZdz0unE9fW1paI4OTkZHJyEoDvedOOOwPMEr9DPEc8A0xmMhnfB7C4uBjHsd7f3y+XywDS1qp2Owc1KJQkDEFHzVbVSwMolUp7e3u62WyKCIhcKwFoAuyhgzgHeNZUgQsgjqJqtcrU7cYBhkEeSIDks0AAzncvMzMnFkRgbRokuHYIEJHEAMA9x2sRA6JuYiEQbEvxsTEAhOhGtP2NrbCkCAqixVqlSo6qtFvoVtBXix5Y8xJmCiqvUjXWL2DOWw1IH10/WkQAPfO29+at6mAWly1T3gcqQtSP1/1uwA8f5D+eu6i1ODIykotHltXjUvbPl+HN3ALcHc+9+0bYJnv3jjOYRb0h5eP24lv29MIPa7WE6B4Snp2gyVHz4YPM/Iz2PUYrPnvF3/3cLv2Te16r0TXcxONDWJ7XxfddnXUEJJEZ1/j8o3jrV37+FyVK6F6PAxk7N6V0WhtiYgAcsQ4CdWfYAMLo8k0AYF792/BTMJElEQhgRGILIwcvakljnejE+uGZ+f3vWJmWrbWl3rZh2+H2k315vGsAWLmiPBNOX9svv422t5tSqXOlHp3Xv/8x/uIb22rbHuUd3FagmH45MA+/wgcL8e0R/eKInjyLAKuYjE3GpKcOwVjJB7lgyv2pckaXVhMHt536aRQZ01OHewPrOm5u3KlGZ7kUsiwuGc41s4U0k/qfOcnm3TA6pxTcW6TTIpZaVYnilue7tbB+TUsCixPrjGTHyA3ACoD4MYXHsYQuwg5z3MVN7FivAG8QzJJsBCvJjsHN4yZuK9YidnOgq7smYAXRcYcHgKUzvNIMDRGJdNUSALCGamdRwoO1lkdHRx3HAdA4RXgE0tSpxyCNiz+odioAHMcNggAisrq6CsBJuUrTyHs0/SnNfkbTn3BhXjFzKpUCUCwWoyiCiOzs7Liu219QhVSGWFH/D9Hm5qaIwBgjIru7u2trawMDOa0VdZ8bpTmbza6srCRPpjGGJIHPfHl5ub29fXh4eF45bzYaOpXKB/mJiYmlpaWxsTERIaL/AL4M0TIMhG9IAAAAJXRFWHRkYXRlOmNyZWF0ZQAyMDE4LTA0LTE2VDExOjMzOjE0KzAwOjAw9MwX9gAAACV0RVh0ZGF0ZTptb2RpZnkAMjAxOC0wNC0xNlQxMTozMzoxNCswMDowMIWRr0oAAAAASUVORK5CYII=)&quot;}}, {&quot;x&quot;: 7.8, &quot;y&quot;: 0.0806, &quot;marker&quot;: {&quot;radius&quot;: 1}}, {&quot;x&quot;: 8.0, &quot;y&quot;: 0.07139999999999999, &quot;marker&quot;: {&quot;radius&quot;: 1}}, {&quot;x&quot;: 8.2, &quot;y&quot;: 0.06145, &quot;marker&quot;: {&quot;radius&quot;: 1}}, {&quot;x&quot;: 8.4, &quot;y&quot;: 0.05465, &quot;marker&quot;: {&quot;radius&quot;: 1}}, {&quot;x&quot;: 8.6, &quot;y&quot;: 0.047, &quot;marker&quot;: {&quot;radius&quot;: 1}}, {&quot;x&quot;: 8.8, &quot;y&quot;: 0.040999999999999995, &quot;marker&quot;: {&quot;radius&quot;: 1}}, {&quot;x&quot;: 9.0, &quot;y&quot;: 0.03365, &quot;marker&quot;: {&quot;radius&quot;: 1}}, {&quot;x&quot;: 9.2, &quot;y&quot;: 0.02845, &quot;marker&quot;: {&quot;radius&quot;: 1}}, {&quot;x&quot;: 9.4, &quot;y&quot;: 0.02425, &quot;marker&quot;: {&quot;radius&quot;: 1}}, {&quot;x&quot;: 9.6, &quot;y&quot;: 0.02065, &quot;marker&quot;: {&quot;radius&quot;: 1}}, {&quot;x&quot;: 9.8, &quot;y&quot;: 0.01875, &quot;marker&quot;: {&quot;symbol&quot;: &quot;url(data:image/png;base64,iVBORw0KGgoAAAANSUhEUgAAAA8AAAAhCAIAAACJEmZbAAAABGdBTUEAALGPC/xhBQAAACBjSFJNAAB6JgAAgIQAAPoAAACA6AAAdTAAAOpgAAA6mAAAF3CculE8AAAABmJLR0QA/wD/AP+gvaeTAAAAB3RJTUUH4gQQCyEOVbM2cwAAA6VJREFUOMtllE1vG1UUht9z7tyZsR1/JKnr0BQhtSrqgraolVykSqTqCoEELPgnbNjAAkXdsOJP8Ccq2OQDGQmRFBWptKuQKCRp0rQe22PPvfdlMU5C0+W55zlf77k6EkIQEQBbW1t/bm5meV6oetAAaWC73e7evVupVEIIqgqSJJeXly/MzwOoqH4AfAy9rgYAgJs3bjx69Iik9x4kHz58WDqutFrf1FrfIf5Wk+81+apan6lUS9fa2hpJ2d7evnP79t7+/myj8blDbZiJRinhgAn901bzV1+M+v179+6trq5Gm5ube/v7ELlCaQ6H1yS+Q70I9cAzODPInzarO/3+xsbGkydPojzPAcCYBfIW9FPYBSggAN4Xc8m5DWN3ADeZZFmmpSAQaUM+glmAKSAOKIACcovmphgAAqiqlkPAO04mHagHpPQBAYBgVBYHSJ7QgX94l4so6IEAOEFCv2P158kIAAEAU1ohj4P7QYuJMBFahiT4Q2u+TmRrNJSyDhBNqwhA/ujz31B8iehymv5j45/C+HGWKRmmDZzQU8NEf83Ff8uwWfEDrwcvvJCUkz7OcpMQvXyxMpcMCwfvXE0wO2d2++mrfo63c8/Wk8QM8+BrNWMjeM/B0DcrJp/E4/HkTVq0loRKEi7O2caMGCMIIR/JzoF7nSfjMeT/mhiVNOGFls611FaMxqo2qlXNe200qmeD6YnctIb1qoiRciQqPCSJpRoHlMs8pRk4KXykOFOLBBmIbOjO5waw9xKDEQ0DHOkJR4tw8Ar/HrOMPaNFkI34+3MeHTuOHcYujN3OIXvP6BxPM57qDRHsHYVfXmt7PlSqOhiY3X1HBBHhue2IgGSz2Wi8a1+ODvsRJQ51xIMXhQ/+fN8k0yRtLEZZcWgF6ikhmGbeaKcqer4TALXZuD85MjGSWYlSMGDcZ1GMK9V0MBi+QRs1tIWtof6OJA2IIYCak2zXh75g8KbegGjMahvpLEQJAoQazlxi0nprlz4EikvqOPudKANA48pViohyKg/zzIsKwglPAAhOBoeutEII2ul0VBXgcI/ZLsTKtJ4CEY6fy/AwAEiTtNFowHvf7XYBWBsbK50P5epncu0LufqJXrhuRNTaGMDS0hJJkFxfXz87FYBEsFVRI6cv1tqVlRWS8N6T7PV6Dx48qNdnoshM1QJMZOr1+v3791dXV8sbKyTL23x8fNzr9ba3t4+Ojkb5KLZxq9VaXFzsdrudTqdk/gNkQeRVLDIwDwAAACV0RVh0ZGF0ZTpjcmVhdGUAMjAxOC0wNC0xNlQxMTozMzoxNCswMDowMPTMF/YAAAAldEVYdGRhdGU6bW9kaWZ5ADIwMTgtMDQtMTZUMTE6MzM6MTQrMDA6MDCFka9KAAAAAElFTkSuQmCC)&quot;}}], &quot;type&quot;: &quot;spline&quot;, &quot;xAxis&quot;: 0, &quot;yAxis&quot;: 0, &quot;name&quot;: &quot;MTF&quot;, &quot;tooltip&quot;: {&quot;headerFormat&quot;: &quot;frecuencia: {point.x:.2f} cm &lt;sup&gt;-1&lt;/sup&gt;&lt;br&gt;&quot;, &quot;pointFormat&quot;: &quot;&lt;span style=\\&quot;font-weight: bold; color: {series.color}\\&quot;&gt;{series.name}&lt;/span&gt;: &lt;b&gt;{point.y:.4f}&lt;/b&gt;&quot;}}]; var dataLen = data.length; for (var ix = 0; ix &lt; dataLen; ix++) { chart.addSeries(data[ix]); } }); &lt;/script&gt; &lt;/body&gt; &lt;/html&gt;\" height=600 width=800></iframe>"
      ],
      "text/plain": [
       "<highcharts.highcharts.highcharts.Highchart at 0xd455550>"
      ]
     },
     "metadata": {},
     "output_type": "display_data"
    }
   ],
   "source": [
    "def TC018_OpcionesGraf():\n",
    "    options = {\n",
    "        \"chart\": {\"zoomType\": \"xy\"},\n",
    "        \"title\": {\"text\": \"MTF\"},\n",
    "        \"xAxis\": {\n",
    "            \"labels\": {\n",
    "                \"useHTML\": True,\n",
    "                \"format\": \"{value} cm<sup>-1</sup>\",\n",
    "                \"enabled\": True,\n",
    "            },\n",
    "            \"title\": {\n",
    "                \"text\": \"Frecuencia espacial\",\n",
    "                \"style\": {\"color\": \"Highcharts.getOptions().colors[1]\"},\n",
    "            },\n",
    "        },\n",
    "        \"yAxis\": [\n",
    "            {\n",
    "                \"labels\": {\n",
    "                    \"format\": \"{value}\",\n",
    "                    \"style\": {\n",
    "                        \"color\": \"Highcharts.getOptions().colors[1]\",\n",
    "                        \"step\": 150,\n",
    "                    },\n",
    "                },\n",
    "                \"title\": {\n",
    "                    \"text\": \"Función de trasferencia de modulación\",\n",
    "                    \"style\": {\"color\": \"Highcharts.getOptions().colors[1]\"},\n",
    "                },\n",
    "            }\n",
    "        ],\n",
    "        \"tooltip\": {\"shared\": True, \"valueDecimals\": 1},\n",
    "    }\n",
    "\n",
    "    return options\n",
    "\n",
    "\n",
    "TC018_H = Highchart(width=800, height=600)\n",
    "TC018_H.set_dict_options(TC018_OpcionesGraf())\n",
    "TC018_H.add_data_set(\n",
    "    dataX,\n",
    "    \"spline\",\n",
    "    \"MTFX\",\n",
    "    xAxis=0,\n",
    "    yAxis=0,\n",
    "    tooltip={\n",
    "        \"headerFormat\": \"frecuencia: {point.x:.2f} cm <sup>-1</sup><br>\",\n",
    "        \"pointFormat\": '<span style=\"font-weight: bold; color: {series.color}\">{series.name}</span>: <b>{point.y:.4f}</b><br>',\n",
    "    },\n",
    ")\n",
    "TC018_H.add_data_set(\n",
    "    dataY,\n",
    "    \"spline\",\n",
    "    \"MTFY\",\n",
    "    xAxis=0,\n",
    "    yAxis=0,\n",
    "    tooltip={\n",
    "        \"headerFormat\": \"frecuencia: {point.x:.2f} cm <sup>-1</sup><br>\",\n",
    "        \"pointFormat\": '<span style=\"font-weight: bold; color: {series.color}\">{series.name}</span>: <b>{point.y:.4f}</b><br>',\n",
    "    },\n",
    ")\n",
    "TC018_H.add_data_set(\n",
    "    data,\n",
    "    \"spline\",\n",
    "    \"MTF\",\n",
    "    xAxis=0,\n",
    "    yAxis=0,\n",
    "    tooltip={\n",
    "        \"headerFormat\": \"frecuencia: {point.x:.2f} cm <sup>-1</sup><br>\",\n",
    "        \"pointFormat\": '<span style=\"font-weight: bold; color: {series.color}\">{series.name}</span>: <b>{point.y:.4f}</b>',\n",
    "    },\n",
    ")\n",
    "\n",
    "display(TC018_H)"
   ]
  },
  {
   "cell_type": "code",
   "execution_count": 32,
   "metadata": {},
   "outputs": [
    {
     "data": {
      "text/html": [
       "<div>\n",
       "<style scoped>\n",
       "    .dataframe tbody tr th:only-of-type {\n",
       "        vertical-align: middle;\n",
       "    }\n",
       "\n",
       "    .dataframe tbody tr th {\n",
       "        vertical-align: top;\n",
       "    }\n",
       "\n",
       "    .dataframe thead th {\n",
       "        text-align: right;\n",
       "    }\n",
       "</style>\n",
       "<table border=\"1\" class=\"dataframe\">\n",
       "  <thead>\n",
       "    <tr style=\"text-align: right;\">\n",
       "      <th></th>\n",
       "      <th>0.5</th>\n",
       "      <th>0.1</th>\n",
       "      <th>0.02</th>\n",
       "    </tr>\n",
       "  </thead>\n",
       "  <tbody>\n",
       "    <tr>\n",
       "      <th>0</th>\n",
       "      <td>4.0</td>\n",
       "      <td>7.6</td>\n",
       "      <td>9.8</td>\n",
       "    </tr>\n",
       "  </tbody>\n",
       "</table>\n",
       "</div>"
      ],
      "text/plain": [
       "   0.5  0.1  0.02\n",
       "0  4.0  7.6   9.8"
      ]
     },
     "execution_count": 32,
     "metadata": {},
     "output_type": "execute_result"
    }
   ],
   "source": [
    "pd.DataFrame(\n",
    "    [[TC018_SemaforosX[0], TC018_SemaforosX[1], TC018_SemaforosX[2]]],\n",
    "    columns=[\"0.5\", \"0.1\", \"0.02\"],\n",
    ")"
   ]
  }
 ],
 "metadata": {
  "hide_input": false,
  "kernelspec": {
   "display_name": "Binder",
   "language": "python",
   "name": "rayosbinder"
  },
  "language_info": {
   "codemirror_mode": {
    "name": "ipython",
    "version": 3
   },
   "file_extension": ".py",
   "mimetype": "text/x-python",
   "name": "python",
   "nbconvert_exporter": "python",
   "pygments_lexer": "ipython3",
   "version": "3.6.13"
  },
  "toc-autonumbering": false,
  "toc-showcode": false,
  "toc-showmarkdowntxt": false
 },
 "nbformat": 4,
 "nbformat_minor": 4
}
