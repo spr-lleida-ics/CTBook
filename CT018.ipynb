{
 "cells": [
  {
   "cell_type": "code",
   "execution_count": 8,
   "metadata": {},
   "outputs": [],
   "source": [
    "import numpy as np\n",
    "\n",
    "%config Completer.use_jedi = False\n",
    "\n",
    "np.seterr(divide=\"ignore\", invalid=\"ignore\")\n",
    "\n",
    "\n",
    "import pandas as pd\n",
    "\n",
    "\n",
    "from scipy import fftpack, stats\n",
    "\n",
    "\n",
    "from skimage import color\n",
    "from skimage.transform import hough_circle, hough_circle_peaks\n",
    "from skimage.feature import canny\n",
    "\n",
    "from IPython.display import display, HTML, Markdown, Latex, clear_output\n",
    "import ipywidgets as widgets\n",
    "\n",
    "\n",
    "from highcharts import Highchart\n",
    "\n",
    "import sys\n",
    "import os\n",
    "\n",
    "import math\n",
    "import pydicom as dc\n",
    "from pydicom import dcmread\n",
    "from pydicom.filebase import DicomBytesIO"
   ]
  },
  {
   "cell_type": "code",
   "execution_count": 9,
   "metadata": {},
   "outputs": [],
   "source": [
    "uploader=widgets.FileUpload(\n",
    "    accept='',  # Accepted file extension e.g. '.txt', '.pdf', 'image/*', 'image/*,.pdf'\n",
    "    multiple=True  # True to accept multiple files upload else False\n",
    ")"
   ]
  },
  {
   "cell_type": "code",
   "execution_count": 10,
   "metadata": {},
   "outputs": [
    {
     "data": {
      "application/vnd.jupyter.widget-view+json": {
       "model_id": "2a7a7573267844d59dd7a2b5b9fb6b03",
       "version_major": 2,
       "version_minor": 0
      },
      "text/plain": [
       "FileUpload(value={}, description='Upload', multiple=True)"
      ]
     },
     "metadata": {},
     "output_type": "display_data"
    }
   ],
   "source": [
    "display(uploader)"
   ]
  },
  {
   "cell_type": "code",
   "execution_count": 12,
   "metadata": {},
   "outputs": [],
   "source": [
    "def BusquedaCirculos(image, HoughParameters, PixelSize):\n",
    "    edges = canny(\n",
    "        image,\n",
    "        sigma=HoughParameters[0],\n",
    "        low_threshold=HoughParameters[1],\n",
    "        high_threshold=HoughParameters[2],\n",
    "    )\n",
    "    hough_radii = np.array(HoughParameters[3])\n",
    "    hough_radii = (hough_radii / PixelSize).astype(np.int)\n",
    "    hough_res = hough_circle(edges, hough_radii)\n",
    "    return hough_circle_peaks(\n",
    "        hough_res, hough_radii, total_num_peaks=HoughParameters[4]\n",
    "    )\n",
    "\n",
    "\n",
    "def createCircularMask(h, w, center=None, radius=None):\n",
    "\n",
    "    if center is None:  # use the middle of the image\n",
    "        center = [int(w / 2), int(h / 2)]\n",
    "    if radius is None:  # use the smallest distance between the center and image walls\n",
    "        radius = min(center[0], center[1], w - center[0], h - center[1])\n",
    "\n",
    "    Y, X = np.ogrid[:h, :w]\n",
    "    dist_from_center = np.sqrt((X - center[0]) ** 2 + (Y - center[1]) ** 2)\n",
    "\n",
    "    mask = dist_from_center <= radius\n",
    "    return mask\n",
    "\n",
    "\n",
    "def NormalizeMTF(Matrix, Agua, Aire):\n",
    "    return (Matrix - Aire) / (Agua - Aire)\n",
    "\n",
    "\n",
    "\n",
    "\n",
    "class Point:\n",
    "    def __init__(self, x_init, y_init):\n",
    "        self.x = x_init\n",
    "        self.y = y_init\n",
    "\n",
    "    def shiftX(self, d):\n",
    "        return Point(self.x + d, self.y)\n",
    "\n",
    "    def shiftY(self, d):\n",
    "        return Point(self.x, self.y + d)\n",
    "\n",
    "    def __repr__(self):\n",
    "        return \"\".join([\"Point(\", str(self.x), \",\", str(self.y), \")\"])\n",
    "\n",
    "    def __add__(a, b):\n",
    "        return Point(a.x + b.x, a.y + b.y)\n",
    "\n",
    "    def __getitem__(self, i):\n",
    "        return Point(self.x[i], self.y[i])\n",
    "\n",
    "\n",
    "\n",
    "\n",
    "# TC018\n",
    "TC018_HoughParameters = [3, 0, 50, [99, 100], 1]\n",
    "TC018_Limits = [87.5, 112.5]\n",
    "TC018_OverResolution = 0.1\n",
    "TC018_MaxAngle = 6\n",
    "TC018_StepAngle = 0.5\n",
    "TC018_Angles = [0, 30, 60, 90, 120, 150, 180]\n",
    "Catphan_ExtRadius = 100  # radio externo del catphan"
   ]
  },
  {
   "cell_type": "code",
   "execution_count": 13,
   "metadata": {},
   "outputs": [
    {
     "name": "stdout",
     "output_type": "stream",
     "text": [
      "Img188.dcm\n",
      "Img189.dcm\n"
     ]
    }
   ],
   "source": [
    "for i in uploader.value.keys():\n",
    "    print(i)"
   ]
  },
  {
   "cell_type": "code",
   "execution_count": 14,
   "metadata": {},
   "outputs": [],
   "source": [
    "def LoadDicomFiles(X):\n",
    "    output=[]\n",
    "    for dicom in X.value.keys():\n",
    "        output.append(dcmread(DicomBytesIO(uploader.value[dicom]['content'])))\n",
    "    return output"
   ]
  },
  {
   "cell_type": "code",
   "execution_count": 15,
   "metadata": {},
   "outputs": [],
   "source": [
    "TC018_image=LoadDicomFiles(uploader)"
   ]
  },
  {
   "cell_type": "markdown",
   "metadata": {},
   "source": [
    "| Código| Parámetro&nbsp;&nbsp;&nbsp;&nbsp;&nbsp;&nbsp;&nbsp;&nbsp;&nbsp;&nbsp;&nbsp;&nbsp;&nbsp;&nbsp;&nbsp;&nbsp;&nbsp;&nbsp;&nbsp;&nbsp;&nbsp;&nbsp;&nbsp;&nbsp;&nbsp;&nbsp;&nbsp;&nbsp;&nbsp;&nbsp;&nbsp;&nbsp;&nbsp;&nbsp;&nbsp;&nbsp;&nbsp;&nbsp;&nbsp;&nbsp;&nbsp;&nbsp;&nbsp;&nbsp;&nbsp;&nbsp;&nbsp;&nbsp;&nbsp;&nbsp;&nbsp;&nbsp;&nbsp;&nbsp;&nbsp;&nbsp;&nbsp;&nbsp;&nbsp;&nbsp;&nbsp;&nbsp;&nbsp;&nbsp;&nbsp;&nbsp;&nbsp;&nbsp;&nbsp;&nbsp;&nbsp;&nbsp;&nbsp;&nbsp;&nbsp;&nbsp;&nbsp;&nbsp;&nbsp;&nbsp;&nbsp;&nbsp;&nbsp;&nbsp;&nbsp;&nbsp;&nbsp;&nbsp;&nbsp;&nbsp;&nbsp;&nbsp;&nbsp;&nbsp;&nbsp;&nbsp;&nbsp;&nbsp;&nbsp;&nbsp;&nbsp;&nbsp;&nbsp;&nbsp;&nbsp;&nbsp;&nbsp;&nbsp;&nbsp;&nbsp;&nbsp;&nbsp;&nbsp;&nbsp;&nbsp;&nbsp;&nbsp;&nbsp;&nbsp;&nbsp;&nbsp;&nbsp;&nbsp;&nbsp;&nbsp;&nbsp;&nbsp;&nbsp;&nbsp;&nbsp;&nbsp;&nbsp;&nbsp;&nbsp;&nbsp;&nbsp;&nbsp;&nbsp;&nbsp;&nbsp;&nbsp;&nbsp;&nbsp;&nbsp;&nbsp;&nbsp;&nbsp;&nbsp;&nbsp;&nbsp;&nbsp;&nbsp;&nbsp;&nbsp;&nbsp;&nbsp;&nbsp;&nbsp;&nbsp;&nbsp; | &nbsp;&nbsp;&nbsp;&nbsp;&nbsp;&nbsp;&nbsp;&nbsp;&nbsp;Clasificación        \n",
    "| :- |:- | :-\n",
    "|[TC018](https://drive.google.com/open?id=14adFusPK1sqlF9hLEqKl86HMZ03XSFzf&disco=AAAADH081mY)| Resolución espacial| ESENCIAL"
   ]
  },
  {
   "cell_type": "code",
   "execution_count": 16,
   "metadata": {},
   "outputs": [],
   "source": [
    "#####################################################\n",
    "# TC018_image = datos[Tabla_Resumen[Tabla_Resumen[\"Z\"] == 20].index[0]]\n",
    "# TC018_image_Res = datos[Tabla_Resumen[Tabla_Resumen[\"Z\"] == -10].index[0]]\n",
    "#####################################################"
   ]
  },
  {
   "cell_type": "code",
   "execution_count": 17,
   "metadata": {},
   "outputs": [],
   "source": [
    "TC018_Resolution = TC018_image[0].PixelSpacing[0]\n",
    "TC018_accums, TC018_cx, TC018_cy, TC018_radii = BusquedaCirculos(\n",
    "    TC018_image[0].pixel_array, TC018_HoughParameters, TC018_Resolution\n",
    ")\n",
    "\n",
    "TC018_cx, TC018_cy\n",
    "\n",
    "TC018_DistanceMap = np.arange(\n",
    "    TC018_Limits[0] / TC018_Resolution,\n",
    "    TC018_Limits[1] / TC018_Resolution,\n",
    "    TC018_OverResolution,\n",
    ")"
   ]
  },
  {
   "cell_type": "code",
   "execution_count": 18,
   "metadata": {},
   "outputs": [],
   "source": [
    "TC018_WaterMask = createCircularMask(\n",
    "    TC018_image[0].pixel_array.shape[0],\n",
    "    TC018_image[0].pixel_array.shape[1],\n",
    "    center=(TC018_cx[0], TC018_cy[0]),\n",
    "    radius=int(Catphan_ExtRadius * 0.9 / TC018_Resolution)\n",
    "    * np.logical_not(\n",
    "        createCircularMask(\n",
    "            TC018_image[0].pixel_array.shape[0],\n",
    "            TC018_image[0].pixel_array.shape[1],\n",
    "            center=(TC018_cx[0], TC018_cy[0]),\n",
    "            radius=int(Catphan_ExtRadius * 0.8 / TC018_Resolution),\n",
    "        )\n",
    "    ),\n",
    ")\n",
    "TC018_AirMask = createCircularMask(\n",
    "    TC018_image[0].pixel_array.shape[0],\n",
    "    TC018_image[0].pixel_array.shape[1],\n",
    "    center=(TC018_cx[0], TC018_cy[0]),\n",
    "    radius=int(Catphan_ExtRadius * 1.3 / TC018_Resolution)\n",
    "    * np.logical_not(\n",
    "        createCircularMask(\n",
    "            TC018_image[0].pixel_array.shape[0],\n",
    "            TC018_image[0].pixel_array.shape[1],\n",
    "            center=(TC018_cx[0], TC018_cy[0]),\n",
    "            radius=int(Catphan_ExtRadius * 1.1 / TC018_Resolution),\n",
    "        )\n",
    "    ),\n",
    ")\n",
    "\n",
    "HUAgua = TC018_WaterMask * TC018_image[0].pixel_array\n",
    "\n",
    "HUAire = TC018_AirMask * TC018_image[0].pixel_array\n",
    "\n",
    "\n",
    "TC018_Angulo = math.sqrt(2 * TC018_Resolution / Catphan_ExtRadius)  # En radianes\n",
    "TC018_FrecuencyResolution = (\n",
    "    0.01 / TC018_Resolution\n",
    ")  # Resolución en frecuencia tomada según IEC62220-1\n",
    "TC018_FrecuenciaNyquist = 1 / 2.0 / TC018_Resolution\n",
    "TC018_Oversampling = int(1 / math.tan(TC018_Angulo))  # factor para el \"overfitting\"\n",
    "TC018_NumeroDePuntos = int(100 * TC018_Oversampling)"
   ]
  },
  {
   "cell_type": "code",
   "execution_count": 19,
   "metadata": {},
   "outputs": [],
   "source": [
    "TC018_comp = (\n",
    "    math.pi\n",
    "    / 2\n",
    "    / TC018_FrecuenciaNyquist\n",
    "    * np.arange(0, TC018_FrecuenciaNyquist, TC018_FrecuencyResolution)\n",
    ") / np.sin(\n",
    "    math.pi\n",
    "    / 2\n",
    "    / TC018_FrecuenciaNyquist\n",
    "    * np.arange(0, TC018_FrecuenciaNyquist, TC018_FrecuencyResolution)\n",
    ")\n",
    "\n",
    "TC018_image_PA = np.array([X.pixel_array for X in TC018_image])"
   ]
  },
  {
   "cell_type": "code",
   "execution_count": 20,
   "metadata": {},
   "outputs": [],
   "source": [
    "TC018_Limites = {\n",
    "    (\"Y\", \"Sup\", \"Min\"): np.max(\n",
    "        [0, TC018_cy[0] - int(Catphan_ExtRadius / TC018_Resolution) - 50]\n",
    "    ),\n",
    "    (\"Y\", \"Inf\", \"Max\"): np.min(\n",
    "        [\n",
    "            TC018_image_PA.shape[0] - 1,\n",
    "            TC018_cy[0] + int(Catphan_ExtRadius / TC018_Resolution) + 50,\n",
    "        ]\n",
    "    ),\n",
    "    (\"X\", \"Izq\", \"Min\"): np.max(\n",
    "        [0, TC018_cx[0] - int(Catphan_ExtRadius / TC018_Resolution) - 50]\n",
    "    ),\n",
    "    (\"X\", \"Dch\", \"Max\"): np.min(\n",
    "        [\n",
    "            TC018_image_PA.shape[1] - 1,\n",
    "            TC018_cx[0] + int(Catphan_ExtRadius / TC018_Resolution) + 50,\n",
    "        ]\n",
    "    ),\n",
    "}"
   ]
  },
  {
   "cell_type": "code",
   "execution_count": 21,
   "metadata": {},
   "outputs": [],
   "source": [
    "TC018_Data_Y = np.array(\n",
    "    [\n",
    "        [\n",
    "            X[\n",
    "                TC018_Limites[\"X\", \"Izq\", \"Min\"] : TC018_Limites[\"X\", \"Izq\", \"Min\"]\n",
    "                + 100,\n",
    "                TC018_cy[0] : TC018_cy[0] + TC018_Oversampling,\n",
    "            ],\n",
    "            X[\n",
    "                TC018_Limites[\"X\", \"Izq\", \"Min\"] : TC018_Limites[\"X\", \"Izq\", \"Min\"]\n",
    "                + 100,\n",
    "                TC018_cy[0] - TC018_Oversampling : TC018_cy[0],\n",
    "            ],\n",
    "            X[\n",
    "                TC018_Limites[\"X\", \"Dch\", \"Max\"]\n",
    "                - 100 : TC018_Limites[\"X\", \"Dch\", \"Max\"],\n",
    "                TC018_cy[0] : TC018_cy[0] + TC018_Oversampling,\n",
    "            ],\n",
    "            X[\n",
    "                TC018_Limites[\"X\", \"Dch\", \"Max\"]\n",
    "                - 100 : TC018_Limites[\"X\", \"Dch\", \"Max\"],\n",
    "                TC018_cy[0] - TC018_Oversampling : TC018_cy[0],\n",
    "            ],\n",
    "        ]\n",
    "        for X in TC018_image_PA\n",
    "    ]\n",
    ")"
   ]
  },
  {
   "cell_type": "code",
   "execution_count": 22,
   "metadata": {},
   "outputs": [],
   "source": [
    "# for X in TC018_Data_Y:\n",
    "# X[1] = np.flip(X[1], axis=0)\n",
    "# X[3] = np.flip(X[3], axis=0)"
   ]
  },
  {
   "cell_type": "code",
   "execution_count": 23,
   "metadata": {},
   "outputs": [],
   "source": [
    "TC018_Data_X = np.array(\n",
    "    [\n",
    "        [\n",
    "            X[\n",
    "                TC018_Limites[\"X\", \"Izq\", \"Min\"] : TC018_Limites[\"X\", \"Izq\", \"Min\"]\n",
    "                + 100,\n",
    "                TC018_cy[0] : TC018_cy[0] + TC018_Oversampling,\n",
    "            ],\n",
    "            X[\n",
    "                TC018_Limites[\"X\", \"Izq\", \"Min\"] : TC018_Limites[\"X\", \"Izq\", \"Min\"]\n",
    "                + 100,\n",
    "                TC018_cy[0] - TC018_Oversampling : TC018_cy[0],\n",
    "            ],\n",
    "            X[\n",
    "                TC018_Limites[\"X\", \"Dch\", \"Max\"]\n",
    "                - 100 : TC018_Limites[\"X\", \"Dch\", \"Max\"],\n",
    "                TC018_cy[0] : TC018_cy[0] + TC018_Oversampling,\n",
    "            ],\n",
    "            X[\n",
    "                TC018_Limites[\"X\", \"Dch\", \"Max\"]\n",
    "                - 100 : TC018_Limites[\"X\", \"Dch\", \"Max\"],\n",
    "                TC018_cy[0] - TC018_Oversampling : TC018_cy[0],\n",
    "            ],\n",
    "        ]\n",
    "        for X in TC018_image_PA\n",
    "    ]\n",
    ")\n",
    "\n",
    "for X in TC018_Data_X:\n",
    "    X[0] = np.flip(X[0], axis=0)\n",
    "    X[3] = np.flip(X[3], axis=0)"
   ]
  },
  {
   "cell_type": "code",
   "execution_count": 24,
   "metadata": {},
   "outputs": [],
   "source": [
    "TC018_Data_Y1 = np.reshape(\n",
    "    TC018_Data_Y,\n",
    "    (\n",
    "        TC018_Data_Y.shape[0] * TC018_Data_Y.shape[1],\n",
    "        TC018_Data_Y.shape[2] * TC018_Data_Y.shape[3],\n",
    "    ),\n",
    ")"
   ]
  },
  {
   "cell_type": "code",
   "execution_count": 25,
   "metadata": {},
   "outputs": [],
   "source": [
    "TC018_Data_X1 = np.reshape(\n",
    "    TC018_Data_X,\n",
    "    (\n",
    "        TC018_Data_X.shape[0] * TC018_Data_X.shape[1],\n",
    "        TC018_Data_X.shape[2] * TC018_Data_X.shape[3],\n",
    "    ),\n",
    ")"
   ]
  },
  {
   "cell_type": "code",
   "execution_count": 26,
   "metadata": {},
   "outputs": [],
   "source": [
    "TC018_Data_X1 = np.array(\n",
    "    [np.reshape(X, (X.shape[0] * X.shape[1])) for Y in TC018_Data_X for X in Y]\n",
    ")"
   ]
  },
  {
   "cell_type": "code",
   "execution_count": 27,
   "metadata": {},
   "outputs": [],
   "source": [
    "TC018_Data_Y1 = [\n",
    "    NormalizeMTF(X, HUAgua[HUAgua > 0.01].mean(), HUAire[HUAire > 0.01].mean())\n",
    "    for X in TC018_Data_Y1\n",
    "]"
   ]
  },
  {
   "cell_type": "code",
   "execution_count": 28,
   "metadata": {},
   "outputs": [],
   "source": [
    "TC018_Data_X1 = [\n",
    "    NormalizeMTF(X, HUAgua[HUAgua > 0.01].mean(), HUAire[HUAire > 0.01].mean())\n",
    "    for X in TC018_Data_X1\n",
    "]"
   ]
  },
  {
   "cell_type": "code",
   "execution_count": 29,
   "metadata": {},
   "outputs": [],
   "source": [
    "def GetMTF(X):\n",
    "    return np.absolute(fftpack.fft(np.gradient(X)))"
   ]
  },
  {
   "cell_type": "code",
   "execution_count": 30,
   "metadata": {},
   "outputs": [],
   "source": [
    "TC018_MTFY = np.array([GetMTF(X) for X in TC018_Data_Y1])\n",
    "TC018_MTFX = np.array([GetMTF(X) for X in TC018_Data_X1])"
   ]
  },
  {
   "cell_type": "code",
   "execution_count": 31,
   "metadata": {},
   "outputs": [],
   "source": [
    "def Suavizado(MTF):\n",
    "    MTF1 = [(MTF[i - 1] + MTF[i] + MTF[i + 1]) / 3 for i in range(1, 49)]\n",
    "    MTF1.insert(0, 1)\n",
    "    MTF1.insert(49, (MTF[48] + MTF[49]) / 2)\n",
    "    MTF1 = np.array(MTF1)\n",
    "    return MTF1\n",
    "\n",
    "\n",
    "TC018_MTFY = np.array([Suavizado(X) for X in TC018_MTFY])\n",
    "TC018_MTFX = np.array([Suavizado(X) for X in TC018_MTFX])"
   ]
  },
  {
   "cell_type": "code",
   "execution_count": 32,
   "metadata": {},
   "outputs": [],
   "source": [
    "TC018_MTFX_Data = np.around(\n",
    "    np.vstack([np.arange(0, 10, 0.2), TC018_MTFX.mean(axis=0)[0:50]]).transpose(), 4\n",
    ")\n",
    "TC018_MTFY_Data = np.around(\n",
    "    np.vstack([np.arange(0, 10, 0.2), TC018_MTFY.mean(axis=0)[0:50]]).transpose(), 4\n",
    ")"
   ]
  },
  {
   "cell_type": "code",
   "execution_count": 33,
   "metadata": {},
   "outputs": [],
   "source": [
    "def TC018_CalcularMTF(X, data):\n",
    "    return np.array(\n",
    "        [\n",
    "            np.interp(x, np.sort(data.mean(axis=0)[0:50]), np.arange(10, 0, -0.2))\n",
    "            for x in X\n",
    "        ]\n",
    "    )"
   ]
  },
  {
   "cell_type": "code",
   "execution_count": 34,
   "metadata": {},
   "outputs": [],
   "source": [
    "TC018_SemaforosX = np.around(\n",
    "    TC018_CalcularMTF(np.array([0.5, 0.1, 0.02]), TC018_MTFX), 2\n",
    ")\n",
    "TC018_SemaforosY = np.around(\n",
    "    TC018_CalcularMTF(np.array([0.5, 0.1, 0.02]), TC018_MTFY), 2\n",
    ")\n",
    "\n",
    "\n",
    "def round_up_to_odd(f):\n",
    "    return (np.ceil(f * 10) // 2 * 2 - 2) / 10"
   ]
  },
  {
   "cell_type": "code",
   "execution_count": 35,
   "metadata": {},
   "outputs": [],
   "source": [
    "TC018_SemaforosX = round_up_to_odd(TC018_SemaforosX)\n",
    "TC018_SemaforosY = round_up_to_odd(TC018_SemaforosY)"
   ]
  },
  {
   "cell_type": "code",
   "execution_count": 36,
   "metadata": {},
   "outputs": [],
   "source": [
    "dataX = [{\"x\": X[0], \"y\": X[1], \"marker\": {\"radius\": 1}} for X in TC018_MTFX_Data]\n",
    "dataY = [{\"x\": X[0], \"y\": X[1], \"marker\": {\"radius\": 1}} for X in TC018_MTFY_Data]\n",
    "data = [\n",
    "    {\"x\": X[0], \"y\": X[1], \"marker\": {\"radius\": 1}}\n",
    "    for X in (TC018_MTFY_Data + TC018_MTFX_Data) / 2\n",
    "]"
   ]
  },
  {
   "cell_type": "code",
   "execution_count": 37,
   "metadata": {},
   "outputs": [],
   "source": [
    "for X in range(len(data)):\n",
    "    rojo = True\n",
    "    amarillo = True\n",
    "    verde = True\n",
    "    if data[X][\"x\"] == TC018_SemaforosX[0]:\n",
    "        data[X][\"marker\"] = {\n",
    "            \"symbol\": \"url(https://drive.google.com/uc?id=1ipxqP5SoT96eU-wR_4rUD0JsII4EQChh)\"\n",
    "        }\n",
    "    elif data[X][\"x\"] == TC018_SemaforosX[1]:\n",
    "        data[X][\"marker\"] = {\n",
    "            # \"symbol\": \"url(http://localhost:8888/tree/Resources/Yellow.png)\"\n",
    "            \"symbol\": \"url(https://drive.google.com/uc?id=1t7QSLwkE_FOqbzvDVwdzo9wQjdBkMDi2)\"\n",
    "        }\n",
    "    elif data[X][\"x\"] == TC018_SemaforosX[2]:\n",
    "        data[X][\"marker\"] = {\n",
    "            # \"symbol\": \"url(http://localhost:8888/tree/Resources/Red.png)\"\n",
    "            \"symbol\": \"url(https://drive.google.com/uc?id=1YH9JlmKBBGZAiS8PET-PZLcBZFCZzLoZ)\"\n",
    "        }"
   ]
  },
  {
   "cell_type": "code",
   "execution_count": 38,
   "metadata": {},
   "outputs": [
    {
     "data": {
      "text/html": [
       "<iframe style=\"border:0;outline:none;overflow:hidden\" srcdoc=\"&lt;!DOCTYPE html&gt; &lt;html lang=&quot;en&quot;&gt; &lt;head&gt; &lt;meta charset=&quot;utf-8&quot; /&gt; &lt;link href=&quot;https://www.highcharts.com/highslide/highslide.css&quot; rel=&quot;stylesheet&quot; /&gt; &lt;script type=&quot;text/javascript&quot; src=&quot;https://ajax.googleapis.com/ajax/libs/jquery/1.9.1/jquery.min.js&quot;&gt;&lt;/script&gt; &lt;script type=&quot;text/javascript&quot; src=&quot;https://code.highcharts.com/6/highcharts.js&quot;&gt;&lt;/script&gt; &lt;script type=&quot;text/javascript&quot; src=&quot;https://code.highcharts.com/6/highcharts-more.js&quot;&gt;&lt;/script&gt; &lt;script type=&quot;text/javascript&quot; src=&quot;https://code.highcharts.com/6/modules/heatmap.js&quot;&gt;&lt;/script&gt; &lt;script type=&quot;text/javascript&quot; src=&quot;https://code.highcharts.com/6/modules/exporting.js&quot;&gt;&lt;/script&gt; &lt;/head&gt; &lt;body style=&quot;margin:0;padding:0&quot;&gt; &lt;div id=&quot;container&quot; style=&quot;width:800px;height:600px;&quot;&gt;Loading....&lt;/div&gt; &lt;script&gt; $(function(){ Highcharts.setOptions({&quot;global&quot;: {}, &quot;lang&quot;: {}}); var option = {&quot;chart&quot;: {&quot;renderTo&quot;: &quot;container&quot;, &quot;width&quot;: 800, &quot;height&quot;: 600, &quot;zoomType&quot;: &quot;xy&quot;}, &quot;colors&quot;: {}, &quot;credits&quot;: {&quot;enabled&quot;: false}, &quot;drilldown&quot;: {}, &quot;exporting&quot;: {}, &quot;labels&quot;: {}, &quot;legend&quot;: {}, &quot;loading&quot;: {}, &quot;navigation&quot;: {}, &quot;pane&quot;: {}, &quot;plotOptions&quot;: {}, &quot;series&quot;: {}, &quot;subtitle&quot;: {}, &quot;title&quot;: {&quot;text&quot;: &quot;MTF&quot;}, &quot;tooltip&quot;: {&quot;shared&quot;: true, &quot;valueDecimals&quot;: 1}, &quot;xAxis&quot;: {&quot;labels&quot;: {&quot;useHTML&quot;: true, &quot;format&quot;: &quot;{value} cm&lt;sup&gt;-1&lt;/sup&gt;&quot;, &quot;enabled&quot;: true}, &quot;title&quot;: {&quot;text&quot;: &quot;Frecuencia espacial&quot;, &quot;style&quot;: {&quot;color&quot;: Highcharts.getOptions().colors[1]}}}, &quot;yAxis&quot;: [{&quot;labels&quot;: {&quot;format&quot;: &quot;{value}&quot;, &quot;style&quot;: {&quot;color&quot;: Highcharts.getOptions().colors[1], &quot;step&quot;: 150}}, &quot;title&quot;: {&quot;text&quot;: &quot;Funci\\u00f3n de trasferencia de modulaci\\u00f3n&quot;, &quot;style&quot;: {&quot;color&quot;: Highcharts.getOptions().colors[1]}}}]}; var chart = new Highcharts.Chart(option); var data = [{&quot;data&quot;: [{&quot;x&quot;: 0.0, &quot;y&quot;: 1.0, &quot;marker&quot;: {&quot;radius&quot;: 1}}, {&quot;x&quot;: 0.2, &quot;y&quot;: 0.9882, &quot;marker&quot;: {&quot;radius&quot;: 1}}, {&quot;x&quot;: 0.4, &quot;y&quot;: 0.9727, &quot;marker&quot;: {&quot;radius&quot;: 1}}, {&quot;x&quot;: 0.6, &quot;y&quot;: 0.9519, &quot;marker&quot;: {&quot;radius&quot;: 1}}, {&quot;x&quot;: 0.8, &quot;y&quot;: 0.9347, &quot;marker&quot;: {&quot;radius&quot;: 1}}, {&quot;x&quot;: 1.0, &quot;y&quot;: 0.9166, &quot;marker&quot;: {&quot;radius&quot;: 1}}, {&quot;x&quot;: 1.2, &quot;y&quot;: 0.8989, &quot;marker&quot;: {&quot;radius&quot;: 1}}, {&quot;x&quot;: 1.4, &quot;y&quot;: 0.8781, &quot;marker&quot;: {&quot;radius&quot;: 1}}, {&quot;x&quot;: 1.6, &quot;y&quot;: 0.8546, &quot;marker&quot;: {&quot;radius&quot;: 1}}, {&quot;x&quot;: 1.8, &quot;y&quot;: 0.8305, &quot;marker&quot;: {&quot;radius&quot;: 1}}, {&quot;x&quot;: 2.0, &quot;y&quot;: 0.8025, &quot;marker&quot;: {&quot;radius&quot;: 1}}, {&quot;x&quot;: 2.2, &quot;y&quot;: 0.778, &quot;marker&quot;: {&quot;radius&quot;: 1}}, {&quot;x&quot;: 2.4, &quot;y&quot;: 0.7469, &quot;marker&quot;: {&quot;radius&quot;: 1}}, {&quot;x&quot;: 2.6, &quot;y&quot;: 0.7209, &quot;marker&quot;: {&quot;radius&quot;: 1}}, {&quot;x&quot;: 2.8, &quot;y&quot;: 0.6879, &quot;marker&quot;: {&quot;radius&quot;: 1}}, {&quot;x&quot;: 3.0, &quot;y&quot;: 0.6607, &quot;marker&quot;: {&quot;radius&quot;: 1}}, {&quot;x&quot;: 3.2, &quot;y&quot;: 0.6299, &quot;marker&quot;: {&quot;radius&quot;: 1}}, {&quot;x&quot;: 3.4, &quot;y&quot;: 0.6006, &quot;marker&quot;: {&quot;radius&quot;: 1}}, {&quot;x&quot;: 3.6, &quot;y&quot;: 0.5707, &quot;marker&quot;: {&quot;radius&quot;: 1}}, {&quot;x&quot;: 3.8, &quot;y&quot;: 0.5366, &quot;marker&quot;: {&quot;radius&quot;: 1}}, {&quot;x&quot;: 4.0, &quot;y&quot;: 0.5066, &quot;marker&quot;: {&quot;radius&quot;: 1}}, {&quot;x&quot;: 4.2, &quot;y&quot;: 0.4725, &quot;marker&quot;: {&quot;radius&quot;: 1}}, {&quot;x&quot;: 4.4, &quot;y&quot;: 0.4454, &quot;marker&quot;: {&quot;radius&quot;: 1}}, {&quot;x&quot;: 4.6, &quot;y&quot;: 0.4144, &quot;marker&quot;: {&quot;radius&quot;: 1}}, {&quot;x&quot;: 4.8, &quot;y&quot;: 0.3866, &quot;marker&quot;: {&quot;radius&quot;: 1}}, {&quot;x&quot;: 5.0, &quot;y&quot;: 0.3565, &quot;marker&quot;: {&quot;radius&quot;: 1}}, {&quot;x&quot;: 5.2, &quot;y&quot;: 0.3317, &quot;marker&quot;: {&quot;radius&quot;: 1}}, {&quot;x&quot;: 5.4, &quot;y&quot;: 0.3077, &quot;marker&quot;: {&quot;radius&quot;: 1}}, {&quot;x&quot;: 5.6, &quot;y&quot;: 0.2816, &quot;marker&quot;: {&quot;radius&quot;: 1}}, {&quot;x&quot;: 5.8, &quot;y&quot;: 0.2581, &quot;marker&quot;: {&quot;radius&quot;: 1}}, {&quot;x&quot;: 6.0, &quot;y&quot;: 0.233, &quot;marker&quot;: {&quot;radius&quot;: 1}}, {&quot;x&quot;: 6.2, &quot;y&quot;: 0.2149, &quot;marker&quot;: {&quot;radius&quot;: 1}}, {&quot;x&quot;: 6.4, &quot;y&quot;: 0.1936, &quot;marker&quot;: {&quot;radius&quot;: 1}}, {&quot;x&quot;: 6.6, &quot;y&quot;: 0.1752, &quot;marker&quot;: {&quot;radius&quot;: 1}}, {&quot;x&quot;: 6.8, &quot;y&quot;: 0.1543, &quot;marker&quot;: {&quot;radius&quot;: 1}}, {&quot;x&quot;: 7.0, &quot;y&quot;: 0.1376, &quot;marker&quot;: {&quot;radius&quot;: 1}}, {&quot;x&quot;: 7.2, &quot;y&quot;: 0.1246, &quot;marker&quot;: {&quot;radius&quot;: 1}}, {&quot;x&quot;: 7.4, &quot;y&quot;: 0.1112, &quot;marker&quot;: {&quot;radius&quot;: 1}}, {&quot;x&quot;: 7.6, &quot;y&quot;: 0.0968, &quot;marker&quot;: {&quot;radius&quot;: 1}}, {&quot;x&quot;: 7.8, &quot;y&quot;: 0.081, &quot;marker&quot;: {&quot;radius&quot;: 1}}, {&quot;x&quot;: 8.0, &quot;y&quot;: 0.0713, &quot;marker&quot;: {&quot;radius&quot;: 1}}, {&quot;x&quot;: 8.2, &quot;y&quot;: 0.0604, &quot;marker&quot;: {&quot;radius&quot;: 1}}, {&quot;x&quot;: 8.4, &quot;y&quot;: 0.0549, &quot;marker&quot;: {&quot;radius&quot;: 1}}, {&quot;x&quot;: 8.6, &quot;y&quot;: 0.046, &quot;marker&quot;: {&quot;radius&quot;: 1}}, {&quot;x&quot;: 8.8, &quot;y&quot;: 0.0412, &quot;marker&quot;: {&quot;radius&quot;: 1}}, {&quot;x&quot;: 9.0, &quot;y&quot;: 0.0333, &quot;marker&quot;: {&quot;radius&quot;: 1}}, {&quot;x&quot;: 9.2, &quot;y&quot;: 0.0294, &quot;marker&quot;: {&quot;radius&quot;: 1}}, {&quot;x&quot;: 9.4, &quot;y&quot;: 0.0243, &quot;marker&quot;: {&quot;radius&quot;: 1}}, {&quot;x&quot;: 9.6, &quot;y&quot;: 0.0208, &quot;marker&quot;: {&quot;radius&quot;: 1}}, {&quot;x&quot;: 9.8, &quot;y&quot;: 0.0188, &quot;marker&quot;: {&quot;radius&quot;: 1}}], &quot;type&quot;: &quot;spline&quot;, &quot;xAxis&quot;: 0, &quot;yAxis&quot;: 0, &quot;name&quot;: &quot;MTFX&quot;, &quot;tooltip&quot;: {&quot;headerFormat&quot;: &quot;frecuencia: {point.x:.2f} cm &lt;sup&gt;-1&lt;/sup&gt;&lt;br&gt;&quot;, &quot;pointFormat&quot;: &quot;&lt;span style=\\&quot;font-weight: bold; color: {series.color}\\&quot;&gt;{series.name}&lt;/span&gt;: &lt;b&gt;{point.y:.4f}&lt;/b&gt;&lt;br&gt;&quot;}}, {&quot;data&quot;: [{&quot;x&quot;: 0.0, &quot;y&quot;: 1.0, &quot;marker&quot;: {&quot;radius&quot;: 1}}, {&quot;x&quot;: 0.2, &quot;y&quot;: 0.9874, &quot;marker&quot;: {&quot;radius&quot;: 1}}, {&quot;x&quot;: 0.4, &quot;y&quot;: 0.9728, &quot;marker&quot;: {&quot;radius&quot;: 1}}, {&quot;x&quot;: 0.6, &quot;y&quot;: 0.9508, &quot;marker&quot;: {&quot;radius&quot;: 1}}, {&quot;x&quot;: 0.8, &quot;y&quot;: 0.9337, &quot;marker&quot;: {&quot;radius&quot;: 1}}, {&quot;x&quot;: 1.0, &quot;y&quot;: 0.915, &quot;marker&quot;: {&quot;radius&quot;: 1}}, {&quot;x&quot;: 1.2, &quot;y&quot;: 0.8965, &quot;marker&quot;: {&quot;radius&quot;: 1}}, {&quot;x&quot;: 1.4, &quot;y&quot;: 0.8754, &quot;marker&quot;: {&quot;radius&quot;: 1}}, {&quot;x&quot;: 1.6, &quot;y&quot;: 0.8501, &quot;marker&quot;: {&quot;radius&quot;: 1}}, {&quot;x&quot;: 1.8, &quot;y&quot;: 0.8261, &quot;marker&quot;: {&quot;radius&quot;: 1}}, {&quot;x&quot;: 2.0, &quot;y&quot;: 0.7962, &quot;marker&quot;: {&quot;radius&quot;: 1}}, {&quot;x&quot;: 2.2, &quot;y&quot;: 0.7712, &quot;marker&quot;: {&quot;radius&quot;: 1}}, {&quot;x&quot;: 2.4, &quot;y&quot;: 0.7385, &quot;marker&quot;: {&quot;radius&quot;: 1}}, {&quot;x&quot;: 2.6, &quot;y&quot;: 0.7117, &quot;marker&quot;: {&quot;radius&quot;: 1}}, {&quot;x&quot;: 2.8, &quot;y&quot;: 0.678, &quot;marker&quot;: {&quot;radius&quot;: 1}}, {&quot;x&quot;: 3.0, &quot;y&quot;: 0.6498, &quot;marker&quot;: {&quot;radius&quot;: 1}}, {&quot;x&quot;: 3.2, &quot;y&quot;: 0.6189, &quot;marker&quot;: {&quot;radius&quot;: 1}}, {&quot;x&quot;: 3.4, &quot;y&quot;: 0.5883, &quot;marker&quot;: {&quot;radius&quot;: 1}}, {&quot;x&quot;: 3.6, &quot;y&quot;: 0.5593, &quot;marker&quot;: {&quot;radius&quot;: 1}}, {&quot;x&quot;: 3.8, &quot;y&quot;: 0.5234, &quot;marker&quot;: {&quot;radius&quot;: 1}}, {&quot;x&quot;: 4.0, &quot;y&quot;: 0.4931, &quot;marker&quot;: {&quot;radius&quot;: 1}}, {&quot;x&quot;: 4.2, &quot;y&quot;: 0.458, &quot;marker&quot;: {&quot;radius&quot;: 1}}, {&quot;x&quot;: 4.4, &quot;y&quot;: 0.4312, &quot;marker&quot;: {&quot;radius&quot;: 1}}, {&quot;x&quot;: 4.6, &quot;y&quot;: 0.3994, &quot;marker&quot;: {&quot;radius&quot;: 1}}, {&quot;x&quot;: 4.8, &quot;y&quot;: 0.3699, &quot;marker&quot;: {&quot;radius&quot;: 1}}, {&quot;x&quot;: 5.0, &quot;y&quot;: 0.3412, &quot;marker&quot;: {&quot;radius&quot;: 1}}, {&quot;x&quot;: 5.2, &quot;y&quot;: 0.3161, &quot;marker&quot;: {&quot;radius&quot;: 1}}, {&quot;x&quot;: 5.4, &quot;y&quot;: 0.2938, &quot;marker&quot;: {&quot;radius&quot;: 1}}, {&quot;x&quot;: 5.6, &quot;y&quot;: 0.2685, &quot;marker&quot;: {&quot;radius&quot;: 1}}, {&quot;x&quot;: 5.8, &quot;y&quot;: 0.2462, &quot;marker&quot;: {&quot;radius&quot;: 1}}, {&quot;x&quot;: 6.0, &quot;y&quot;: 0.2212, &quot;marker&quot;: {&quot;radius&quot;: 1}}, {&quot;x&quot;: 6.2, &quot;y&quot;: 0.2012, &quot;marker&quot;: {&quot;radius&quot;: 1}}, {&quot;x&quot;: 6.4, &quot;y&quot;: 0.1812, &quot;marker&quot;: {&quot;radius&quot;: 1}}, {&quot;x&quot;: 6.6, &quot;y&quot;: 0.1626, &quot;marker&quot;: {&quot;radius&quot;: 1}}, {&quot;x&quot;: 6.8, &quot;y&quot;: 0.1433, &quot;marker&quot;: {&quot;radius&quot;: 1}}, {&quot;x&quot;: 7.0, &quot;y&quot;: 0.1255, &quot;marker&quot;: {&quot;radius&quot;: 1}}, {&quot;x&quot;: 7.2, &quot;y&quot;: 0.1141, &quot;marker&quot;: {&quot;radius&quot;: 1}}, {&quot;x&quot;: 7.4, &quot;y&quot;: 0.1006, &quot;marker&quot;: {&quot;radius&quot;: 1}}, {&quot;x&quot;: 7.6, &quot;y&quot;: 0.0883, &quot;marker&quot;: {&quot;radius&quot;: 1}}, {&quot;x&quot;: 7.8, &quot;y&quot;: 0.0729, &quot;marker&quot;: {&quot;radius&quot;: 1}}, {&quot;x&quot;: 8.0, &quot;y&quot;: 0.065, &quot;marker&quot;: {&quot;radius&quot;: 1}}, {&quot;x&quot;: 8.2, &quot;y&quot;: 0.0543, &quot;marker&quot;: {&quot;radius&quot;: 1}}, {&quot;x&quot;: 8.4, &quot;y&quot;: 0.0501, &quot;marker&quot;: {&quot;radius&quot;: 1}}, {&quot;x&quot;: 8.6, &quot;y&quot;: 0.0418, &quot;marker&quot;: {&quot;radius&quot;: 1}}, {&quot;x&quot;: 8.8, &quot;y&quot;: 0.0377, &quot;marker&quot;: {&quot;radius&quot;: 1}}, {&quot;x&quot;: 9.0, &quot;y&quot;: 0.0312, &quot;marker&quot;: {&quot;radius&quot;: 1}}, {&quot;x&quot;: 9.2, &quot;y&quot;: 0.0258, &quot;marker&quot;: {&quot;radius&quot;: 1}}, {&quot;x&quot;: 9.4, &quot;y&quot;: 0.0236, &quot;marker&quot;: {&quot;radius&quot;: 1}}, {&quot;x&quot;: 9.6, &quot;y&quot;: 0.0179, &quot;marker&quot;: {&quot;radius&quot;: 1}}, {&quot;x&quot;: 9.8, &quot;y&quot;: 0.018, &quot;marker&quot;: {&quot;radius&quot;: 1}}], &quot;type&quot;: &quot;spline&quot;, &quot;xAxis&quot;: 0, &quot;yAxis&quot;: 0, &quot;name&quot;: &quot;MTFY&quot;, &quot;tooltip&quot;: {&quot;headerFormat&quot;: &quot;frecuencia: {point.x:.2f} cm &lt;sup&gt;-1&lt;/sup&gt;&lt;br&gt;&quot;, &quot;pointFormat&quot;: &quot;&lt;span style=\\&quot;font-weight: bold; color: {series.color}\\&quot;&gt;{series.name}&lt;/span&gt;: &lt;b&gt;{point.y:.4f}&lt;/b&gt;&lt;br&gt;&quot;}}, {&quot;data&quot;: [{&quot;x&quot;: 0.0, &quot;y&quot;: 1.0, &quot;marker&quot;: {&quot;radius&quot;: 1}}, {&quot;x&quot;: 0.2, &quot;y&quot;: 0.9878, &quot;marker&quot;: {&quot;radius&quot;: 1}}, {&quot;x&quot;: 0.4, &quot;y&quot;: 0.97275, &quot;marker&quot;: {&quot;radius&quot;: 1}}, {&quot;x&quot;: 0.6, &quot;y&quot;: 0.9513499999999999, &quot;marker&quot;: {&quot;radius&quot;: 1}}, {&quot;x&quot;: 0.8, &quot;y&quot;: 0.9341999999999999, &quot;marker&quot;: {&quot;radius&quot;: 1}}, {&quot;x&quot;: 1.0, &quot;y&quot;: 0.9158, &quot;marker&quot;: {&quot;radius&quot;: 1}}, {&quot;x&quot;: 1.2, &quot;y&quot;: 0.8976999999999999, &quot;marker&quot;: {&quot;radius&quot;: 1}}, {&quot;x&quot;: 1.4, &quot;y&quot;: 0.8767499999999999, &quot;marker&quot;: {&quot;radius&quot;: 1}}, {&quot;x&quot;: 1.6, &quot;y&quot;: 0.8523499999999999, &quot;marker&quot;: {&quot;radius&quot;: 1}}, {&quot;x&quot;: 1.8, &quot;y&quot;: 0.8283, &quot;marker&quot;: {&quot;radius&quot;: 1}}, {&quot;x&quot;: 2.0, &quot;y&quot;: 0.79935, &quot;marker&quot;: {&quot;radius&quot;: 1}}, {&quot;x&quot;: 2.2, &quot;y&quot;: 0.7746, &quot;marker&quot;: {&quot;radius&quot;: 1}}, {&quot;x&quot;: 2.4, &quot;y&quot;: 0.7427, &quot;marker&quot;: {&quot;radius&quot;: 1}}, {&quot;x&quot;: 2.6, &quot;y&quot;: 0.7162999999999999, &quot;marker&quot;: {&quot;radius&quot;: 1}}, {&quot;x&quot;: 2.8, &quot;y&quot;: 0.68295, &quot;marker&quot;: {&quot;radius&quot;: 1}}, {&quot;x&quot;: 3.0, &quot;y&quot;: 0.65525, &quot;marker&quot;: {&quot;radius&quot;: 1}}, {&quot;x&quot;: 3.2, &quot;y&quot;: 0.6244000000000001, &quot;marker&quot;: {&quot;radius&quot;: 1}}, {&quot;x&quot;: 3.4, &quot;y&quot;: 0.59445, &quot;marker&quot;: {&quot;radius&quot;: 1}}, {&quot;x&quot;: 3.6, &quot;y&quot;: 0.565, &quot;marker&quot;: {&quot;radius&quot;: 1}}, {&quot;x&quot;: 3.8, &quot;y&quot;: 0.53, &quot;marker&quot;: {&quot;radius&quot;: 1}}, {&quot;x&quot;: 4.0, &quot;y&quot;: 0.49985, &quot;marker&quot;: {&quot;symbol&quot;: &quot;url(https://drive.google.com/uc?id=1ipxqP5SoT96eU-wR_4rUD0JsII4EQChh)&quot;}}, {&quot;x&quot;: 4.2, &quot;y&quot;: 0.46525, &quot;marker&quot;: {&quot;radius&quot;: 1}}, {&quot;x&quot;: 4.4, &quot;y&quot;: 0.4383, &quot;marker&quot;: {&quot;radius&quot;: 1}}, {&quot;x&quot;: 4.6, &quot;y&quot;: 0.4069, &quot;marker&quot;: {&quot;radius&quot;: 1}}, {&quot;x&quot;: 4.8, &quot;y&quot;: 0.37825, &quot;marker&quot;: {&quot;radius&quot;: 1}}, {&quot;x&quot;: 5.0, &quot;y&quot;: 0.34885, &quot;marker&quot;: {&quot;radius&quot;: 1}}, {&quot;x&quot;: 5.2, &quot;y&quot;: 0.32389999999999997, &quot;marker&quot;: {&quot;radius&quot;: 1}}, {&quot;x&quot;: 5.4, &quot;y&quot;: 0.30074999999999996, &quot;marker&quot;: {&quot;radius&quot;: 1}}, {&quot;x&quot;: 5.6, &quot;y&quot;: 0.27505, &quot;marker&quot;: {&quot;radius&quot;: 1}}, {&quot;x&quot;: 5.8, &quot;y&quot;: 0.25215, &quot;marker&quot;: {&quot;radius&quot;: 1}}, {&quot;x&quot;: 6.0, &quot;y&quot;: 0.22710000000000002, &quot;marker&quot;: {&quot;radius&quot;: 1}}, {&quot;x&quot;: 6.2, &quot;y&quot;: 0.20805, &quot;marker&quot;: {&quot;radius&quot;: 1}}, {&quot;x&quot;: 6.4, &quot;y&quot;: 0.1874, &quot;marker&quot;: {&quot;radius&quot;: 1}}, {&quot;x&quot;: 6.6, &quot;y&quot;: 0.1689, &quot;marker&quot;: {&quot;radius&quot;: 1}}, {&quot;x&quot;: 6.8, &quot;y&quot;: 0.1488, &quot;marker&quot;: {&quot;radius&quot;: 1}}, {&quot;x&quot;: 7.0, &quot;y&quot;: 0.13155, &quot;marker&quot;: {&quot;radius&quot;: 1}}, {&quot;x&quot;: 7.2, &quot;y&quot;: 0.11935, &quot;marker&quot;: {&quot;radius&quot;: 1}}, {&quot;x&quot;: 7.4, &quot;y&quot;: 0.1059, &quot;marker&quot;: {&quot;radius&quot;: 1}}, {&quot;x&quot;: 7.6, &quot;y&quot;: 0.09255, &quot;marker&quot;: {&quot;symbol&quot;: &quot;url(https://drive.google.com/uc?id=1t7QSLwkE_FOqbzvDVwdzo9wQjdBkMDi2)&quot;}}, {&quot;x&quot;: 7.8, &quot;y&quot;: 0.07695, &quot;marker&quot;: {&quot;radius&quot;: 1}}, {&quot;x&quot;: 8.0, &quot;y&quot;: 0.06815, &quot;marker&quot;: {&quot;radius&quot;: 1}}, {&quot;x&quot;: 8.2, &quot;y&quot;: 0.05735, &quot;marker&quot;: {&quot;radius&quot;: 1}}, {&quot;x&quot;: 8.4, &quot;y&quot;: 0.0525, &quot;marker&quot;: {&quot;radius&quot;: 1}}, {&quot;x&quot;: 8.6, &quot;y&quot;: 0.043899999999999995, &quot;marker&quot;: {&quot;radius&quot;: 1}}, {&quot;x&quot;: 8.8, &quot;y&quot;: 0.03945, &quot;marker&quot;: {&quot;radius&quot;: 1}}, {&quot;x&quot;: 9.0, &quot;y&quot;: 0.03225, &quot;marker&quot;: {&quot;radius&quot;: 1}}, {&quot;x&quot;: 9.2, &quot;y&quot;: 0.0276, &quot;marker&quot;: {&quot;radius&quot;: 1}}, {&quot;x&quot;: 9.4, &quot;y&quot;: 0.02395, &quot;marker&quot;: {&quot;radius&quot;: 1}}, {&quot;x&quot;: 9.6, &quot;y&quot;: 0.01935, &quot;marker&quot;: {&quot;symbol&quot;: &quot;url(https://drive.google.com/uc?id=1YH9JlmKBBGZAiS8PET-PZLcBZFCZzLoZ)&quot;}}, {&quot;x&quot;: 9.8, &quot;y&quot;: 0.0184, &quot;marker&quot;: {&quot;radius&quot;: 1}}], &quot;type&quot;: &quot;spline&quot;, &quot;xAxis&quot;: 0, &quot;yAxis&quot;: 0, &quot;name&quot;: &quot;MTF&quot;, &quot;tooltip&quot;: {&quot;headerFormat&quot;: &quot;frecuencia: {point.x:.2f} cm &lt;sup&gt;-1&lt;/sup&gt;&lt;br&gt;&quot;, &quot;pointFormat&quot;: &quot;&lt;span style=\\&quot;font-weight: bold; color: {series.color}\\&quot;&gt;{series.name}&lt;/span&gt;: &lt;b&gt;{point.y:.4f}&lt;/b&gt;&quot;}}]; var dataLen = data.length; for (var ix = 0; ix &lt; dataLen; ix++) { chart.addSeries(data[ix]); } }); &lt;/script&gt; &lt;/body&gt; &lt;/html&gt;\" height=600 width=800></iframe>"
      ],
      "text/plain": [
       "<highcharts.highcharts.highcharts.Highchart at 0xbca0438>"
      ]
     },
     "metadata": {},
     "output_type": "display_data"
    }
   ],
   "source": [
    "def TC018_OpcionesGraf():\n",
    "    options = {\n",
    "        \"chart\": {\"zoomType\": \"xy\"},\n",
    "        \"title\": {\"text\": \"MTF\"},\n",
    "        \"xAxis\": {\n",
    "            \"labels\": {\n",
    "                \"useHTML\": True,\n",
    "                \"format\": \"{value} cm<sup>-1</sup>\",\n",
    "                \"enabled\": True,\n",
    "            },\n",
    "            \"title\": {\n",
    "                \"text\": \"Frecuencia espacial\",\n",
    "                \"style\": {\"color\": \"Highcharts.getOptions().colors[1]\"},\n",
    "            },\n",
    "        },\n",
    "        \"yAxis\": [\n",
    "            {\n",
    "                \"labels\": {\n",
    "                    \"format\": \"{value}\",\n",
    "                    \"style\": {\n",
    "                        \"color\": \"Highcharts.getOptions().colors[1]\",\n",
    "                        \"step\": 150,\n",
    "                    },\n",
    "                },\n",
    "                \"title\": {\n",
    "                    \"text\": \"Función de trasferencia de modulación\",\n",
    "                    \"style\": {\"color\": \"Highcharts.getOptions().colors[1]\"},\n",
    "                },\n",
    "            }\n",
    "        ],\n",
    "        \"tooltip\": {\"shared\": True, \"valueDecimals\": 1},\n",
    "    }\n",
    "\n",
    "    return options\n",
    "\n",
    "\n",
    "TC018_H = Highchart(width=800, height=600)\n",
    "TC018_H.set_dict_options(TC018_OpcionesGraf())\n",
    "TC018_H.add_data_set(\n",
    "    dataX,\n",
    "    \"spline\",\n",
    "    \"MTFX\",\n",
    "    xAxis=0,\n",
    "    yAxis=0,\n",
    "    tooltip={\n",
    "        \"headerFormat\": \"frecuencia: {point.x:.2f} cm <sup>-1</sup><br>\",\n",
    "        \"pointFormat\": '<span style=\"font-weight: bold; color: {series.color}\">{series.name}</span>: <b>{point.y:.4f}</b><br>',\n",
    "    },\n",
    ")\n",
    "TC018_H.add_data_set(\n",
    "    dataY,\n",
    "    \"spline\",\n",
    "    \"MTFY\",\n",
    "    xAxis=0,\n",
    "    yAxis=0,\n",
    "    tooltip={\n",
    "        \"headerFormat\": \"frecuencia: {point.x:.2f} cm <sup>-1</sup><br>\",\n",
    "        \"pointFormat\": '<span style=\"font-weight: bold; color: {series.color}\">{series.name}</span>: <b>{point.y:.4f}</b><br>',\n",
    "    },\n",
    ")\n",
    "TC018_H.add_data_set(\n",
    "    data,\n",
    "    \"spline\",\n",
    "    \"MTF\",\n",
    "    xAxis=0,\n",
    "    yAxis=0,\n",
    "    tooltip={\n",
    "        \"headerFormat\": \"frecuencia: {point.x:.2f} cm <sup>-1</sup><br>\",\n",
    "        \"pointFormat\": '<span style=\"font-weight: bold; color: {series.color}\">{series.name}</span>: <b>{point.y:.4f}</b>',\n",
    "    },\n",
    ")\n",
    "\n",
    "display(TC018_H)"
   ]
  },
  {
   "cell_type": "code",
   "execution_count": 39,
   "metadata": {},
   "outputs": [
    {
     "data": {
      "text/html": [
       "<div>\n",
       "<style scoped>\n",
       "    .dataframe tbody tr th:only-of-type {\n",
       "        vertical-align: middle;\n",
       "    }\n",
       "\n",
       "    .dataframe tbody tr th {\n",
       "        vertical-align: top;\n",
       "    }\n",
       "\n",
       "    .dataframe thead th {\n",
       "        text-align: right;\n",
       "    }\n",
       "</style>\n",
       "<table border=\"1\" class=\"dataframe\">\n",
       "  <thead>\n",
       "    <tr style=\"text-align: right;\">\n",
       "      <th></th>\n",
       "      <th>0.5</th>\n",
       "      <th>0.1</th>\n",
       "      <th>0.02</th>\n",
       "    </tr>\n",
       "  </thead>\n",
       "  <tbody>\n",
       "    <tr>\n",
       "      <th>0</th>\n",
       "      <td>4.0</td>\n",
       "      <td>7.6</td>\n",
       "      <td>9.6</td>\n",
       "    </tr>\n",
       "  </tbody>\n",
       "</table>\n",
       "</div>"
      ],
      "text/plain": [
       "   0.5  0.1  0.02\n",
       "0  4.0  7.6   9.6"
      ]
     },
     "execution_count": 39,
     "metadata": {},
     "output_type": "execute_result"
    }
   ],
   "source": [
    "pd.DataFrame([[TC018_SemaforosX[0],TC018_SemaforosX[1],TC018_SemaforosX[2]]],columns=['0.5','0.1','0.02'])"
   ]
  }
 ],
 "metadata": {
  "hide_input": false,
  "kernelspec": {
   "display_name": "Binder",
   "language": "python",
   "name": "rayosbinder"
  },
  "language_info": {
   "codemirror_mode": {
    "name": "ipython",
    "version": 3
   },
   "file_extension": ".py",
   "mimetype": "text/x-python",
   "name": "python",
   "nbconvert_exporter": "python",
   "pygments_lexer": "ipython3",
   "version": "3.6.13"
  },
  "toc-autonumbering": false,
  "toc-showcode": false,
  "toc-showmarkdowntxt": false
 },
 "nbformat": 4,
 "nbformat_minor": 4
}
